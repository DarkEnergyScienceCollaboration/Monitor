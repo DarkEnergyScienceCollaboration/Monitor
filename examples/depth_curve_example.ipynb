{
 "cells": [
  {
   "cell_type": "markdown",
   "metadata": {
    "collapsed": true
   },
   "source": [
    "# Measuring 5-sigma Depth Curves\n",
    "\n",
    "In this notebook we will extract an object light curve from the Twinkles field, and measure the 5-sigma limiting depth at each epoch. The reason to do this is to start trying to understand the error properties of the `Monitor` light curves (including their biases) as a function of observation properties, such as image quality and image depth.\n",
    "\n",
    "### Requirements\n",
    "\n",
    "You will need the DESC `Monitor` and its dependencies.\n",
    "\n",
    "You will also need to set up an SSH tunnel to NERSC scidb where the Twinkles PServ data is stored.\n",
    "```\n",
    "ssh -L 3307:scidb1.nersc.gov:3306 $USER@cori.nersc.gov\n",
    "```"
   ]
  },
  {
   "cell_type": "code",
   "execution_count": 5,
   "metadata": {
    "collapsed": false
   },
   "outputs": [],
   "source": [
    "import desc.monitor\n",
    "import matplotlib.pyplot as plt"
   ]
  },
  {
   "cell_type": "markdown",
   "metadata": {},
   "source": [
    "## An Example Object Light Curve\n",
    "\n",
    "Let's pull out one of the Twinkles objects and visualize it."
   ]
  },
  {
   "cell_type": "code",
   "execution_count": 7,
   "metadata": {
    "collapsed": false
   },
   "outputs": [
    {
     "ename": "AttributeError",
     "evalue": "'module' object has no attribute 'dbConnection'",
     "output_type": "error",
     "traceback": [
      "\u001b[0;31m---------------------------------------------------------------------------\u001b[0m",
      "\u001b[0;31mAttributeError\u001b[0m                            Traceback (most recent call last)",
      "\u001b[0;32m<ipython-input-7-b7d3cd23206c>\u001b[0m in \u001b[0;36m<module>\u001b[0;34m()\u001b[0m\n\u001b[0;32m----> 1\u001b[0;31m dbConn = desc.monitor.dbConnection.dbInterface(database='DESC_Twinkles_Level_2',\n\u001b[0m\u001b[1;32m      2\u001b[0m                                                \u001b[0mhost\u001b[0m\u001b[0;34m=\u001b[0m\u001b[0;34m'127.0.0.1'\u001b[0m\u001b[0;34m,\u001b[0m \u001b[0mport\u001b[0m\u001b[0;34m=\u001b[0m\u001b[0;34m'3307'\u001b[0m\u001b[0;34m,\u001b[0m\u001b[0;34m\u001b[0m\u001b[0m\n\u001b[1;32m      3\u001b[0m                                                driver='mysql')\n",
      "\u001b[0;31mAttributeError\u001b[0m: 'module' object has no attribute 'dbConnection'"
     ]
    }
   ],
   "source": [
    "dbConn = desc.monitor.dbConnection.dbInterface(database='DESC_Twinkles_Level_2',\n",
    "                                               host='127.0.0.1', port='3307',\n",
    "                                               driver='mysql')"
   ]
  },
  {
   "cell_type": "code",
   "execution_count": null,
   "metadata": {
    "collapsed": false
   },
   "outputs": [],
   "source": [
    "lc = desc.monitor.LightCurve(dbConn)\n",
    "lc.build_lightcurve_from_db(objid=48253)"
   ]
  },
  {
   "cell_type": "code",
   "execution_count": null,
   "metadata": {
    "collapsed": false
   },
   "outputs": [],
   "source": [
    "fig = lc.visualize_lightcurve()\n",
    "plt.tight_layout()"
   ]
  },
  {
   "cell_type": "markdown",
   "metadata": {},
   "source": [
    "## The Matching Depth Curve\n",
    "\n",
    "Now let's measure the 5-sigma limiting depth (for a point source). We do this by selecting a number of stars from the field, and then for each epoch, querying their flux errors, converting to limiting depth, and then averaging (with sigma-clipping) over the ensemble. All this is done by the `measure_depth_curve()` method."
   ]
  },
  {
   "cell_type": "code",
   "execution_count": null,
   "metadata": {
    "collapsed": true
   },
   "outputs": [],
   "source": [
    "# worker = desc.monitor.Monitor(dbConn)\n",
    "# worker.measure_depth_curve(using='ForcedSources', from='DM')\n",
    "\n",
    "# TBC!"
   ]
  },
  {
   "cell_type": "code",
   "execution_count": null,
   "metadata": {
    "collapsed": true
   },
   "outputs": [],
   "source": []
  }
 ],
 "metadata": {
  "kernelspec": {
   "display_name": "Python 2",
   "language": "python",
   "name": "python2"
  },
  "language_info": {
   "codemirror_mode": {
    "name": "ipython",
    "version": 2
   },
   "file_extension": ".py",
   "mimetype": "text/x-python",
   "name": "python",
   "nbconvert_exporter": "python",
   "pygments_lexer": "ipython2",
   "version": "2.7.12"
  }
 },
 "nbformat": 4,
 "nbformat_minor": 0
}
