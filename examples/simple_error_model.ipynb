{
 "cells": [
  {
   "cell_type": "markdown",
   "metadata": {},
   "source": [
    "# Simple Error Model for Twinkles\n",
    "\n",
    "This notebook will calculate a simple error model for the Twinkles data as a function of the seeing and depth.\n",
    "\n",
    "### Requirements\n",
    "\n",
    "You will need the DESC `Monitor` and its dependencies.\n",
    "\n",
    "You will also need the star_cache.db from  in your `Monitor/data` directory.\n",
    "\n",
    "Finally, you need the correct opsim database for your Twinkles run. For run 1.1 this is kraken_1042 and for run 3 and beyond this is minion_1016. Both are available [here](https://www.lsst.org/scientists/simulations/opsim/opsim-v335-benchmark-surveys)."
   ]
  },
  {
   "cell_type": "code",
   "execution_count": null,
   "metadata": {
    "collapsed": false
   },
   "outputs": [],
   "source": [
    "import os\n",
    "import desc.monitor\n",
    "import matplotlib.pyplot as plt\n",
    "%matplotlib inline\n",
    "%load_ext autoreload\n",
    "%autoreload 2"
   ]
  },
  {
   "cell_type": "markdown",
   "metadata": {
    "collapsed": true
   },
   "source": [
    "### Get differences between true and observed fluxes\n",
    "\n",
    "We first want to get all the differences for the run between the true and observed fluxes and store them in a Pandas Dataframe."
   ]
  },
  {
   "cell_type": "code",
   "execution_count": null,
   "metadata": {
    "collapsed": false
   },
   "outputs": [],
   "source": [
    "star_db_name = 'twinkles_run1.1_stars.db'"
   ]
  },
  {
   "cell_type": "code",
   "execution_count": null,
   "metadata": {
    "collapsed": false
   },
   "outputs": [],
   "source": [
    "truth_dbConn = desc.monitor.truthDBInterface(database=star_db_name, driver='sqlite')\n",
    "dbConn_twinkles = desc.monitor.dbInterface(database='DESC_Twinkles_Level_2',\n",
    "                                           host='127.0.0.1', port='3307',\n",
    "                                           driver='mysql')"
   ]
  },
  {
   "cell_type": "code",
   "execution_count": null,
   "metadata": {
    "collapsed": false
   },
   "outputs": [],
   "source": [
    "worker = desc.monitor.Monitor(dbConn_twinkles, truth_dbConn=truth_dbConn)"
   ]
  },
  {
   "cell_type": "code",
   "execution_count": null,
   "metadata": {
    "collapsed": false
   },
   "outputs": [],
   "source": [
    "x, y = worker.calc_flux_diff(for_visits=[200])"
   ]
  },
  {
   "cell_type": "code",
   "execution_count": null,
   "metadata": {
    "collapsed": false
   },
   "outputs": [],
   "source": [
    "import numpy as np\n",
    "counts = np.zeros(3152)\n",
    "for ind in y:\n",
    "    current = counts[ind]\n",
    "    current += 1\n",
    "    counts[ind] = current"
   ]
  },
  {
   "cell_type": "code",
   "execution_count": null,
   "metadata": {
    "collapsed": false
   },
   "outputs": [],
   "source": [
    "np.where(counts == 1.)"
   ]
  },
  {
   "cell_type": "code",
   "execution_count": null,
   "metadata": {
    "collapsed": true
   },
   "outputs": [],
   "source": [
    "worker.calc_statistics()"
   ]
  },
  {
   "cell_type": "code",
   "execution_count": null,
   "metadata": {
    "collapsed": true
   },
   "outputs": [],
   "source": []
  }
 ],
 "metadata": {
  "kernelspec": {
   "display_name": "Python 2",
   "language": "python",
   "name": "python2"
  },
  "language_info": {
   "codemirror_mode": {
    "name": "ipython",
    "version": 2
   },
   "file_extension": ".py",
   "mimetype": "text/x-python",
   "name": "python",
   "nbconvert_exporter": "python",
   "pygments_lexer": "ipython2",
   "version": "2.7.12"
  }
 },
 "nbformat": 4,
 "nbformat_minor": 0
}
