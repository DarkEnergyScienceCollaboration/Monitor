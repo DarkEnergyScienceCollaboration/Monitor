{
 "cells": [
  {
   "cell_type": "markdown",
   "metadata": {},
   "source": [
    "# Simple Error Model for Twinkles\n",
    "\n",
    "This notebook will calculate a simple error model for the Twinkles data as a function of the seeing and depth.\n",
    "\n",
    "### Requirements\n",
    "\n",
    "You will need the DESC `Monitor` and its dependencies.\n",
    "\n",
    "You will also need the star_cache.db from  in your `Monitor/data` directory.\n",
    "\n",
    "Finally, you need the correct opsim database for your Twinkles run. For run 1.1 this is kraken_1042 and for run 3 and beyond this is minion_1016. Both are available [here](https://www.lsst.org/scientists/simulations/opsim/opsim-v335-benchmark-surveys)."
   ]
  },
  {
   "cell_type": "code",
   "execution_count": null,
   "metadata": {
    "collapsed": false
   },
   "outputs": [],
   "source": [
    "import os\n",
    "import desc.monitor\n",
    "import matplotlib.pyplot as plt\n",
    "%matplotlib inline\n",
    "%load_ext autoreload\n",
    "%autoreload 2"
   ]
  },
  {
   "cell_type": "markdown",
   "metadata": {
    "collapsed": true
   },
   "source": [
    "### Get differences between true and observed fluxes\n",
    "\n",
    "We first want to get all the differences for the run between the true and observed fluxes and store them in a Pandas Dataframe."
   ]
  },
  {
   "cell_type": "code",
   "execution_count": null,
   "metadata": {
    "collapsed": false
   },
   "outputs": [],
   "source": [
    "star_db_name = 'twinkles_run1.1.db'"
   ]
  },
  {
   "cell_type": "code",
   "execution_count": null,
   "metadata": {
    "collapsed": false
   },
   "outputs": [],
   "source": [
    "truth_dbConn = desc.monitor.truthDBInterface(database=star_db_name, driver='sqlite')\n",
    "dbConn_twinkles = desc.monitor.dbInterface(database='DESC_Twinkles_Level_2',\n",
    "                                           host='127.0.0.1', port='3307',\n",
    "                                           driver='mysql')"
   ]
  },
  {
   "cell_type": "code",
   "execution_count": null,
   "metadata": {
    "collapsed": false
   },
   "outputs": [],
   "source": [
    "worker = desc.monitor.Monitor(dbConn_twinkles, truth_dbConn=truth_dbConn)"
   ]
  },
  {
   "cell_type": "code",
   "execution_count": null,
   "metadata": {
    "collapsed": false
   },
   "outputs": [],
   "source": [
    "depth_curve = worker.measure_depth_curve()"
   ]
  },
  {
   "cell_type": "code",
   "execution_count": null,
   "metadata": {
    "collapsed": true
   },
   "outputs": [],
   "source": [
    "seeing_curve = worker.measure_seeing_curve()"
   ]
  },
  {
   "cell_type": "code",
   "execution_count": null,
   "metadata": {
    "collapsed": false
   },
   "outputs": [],
   "source": [
    "worker.calc_flux_diff(with_depth_curve=depth_curve, with_seeing_curve=seeing_curve)"
   ]
  },
  {
   "cell_type": "code",
   "execution_count": null,
   "metadata": {
    "collapsed": true
   },
   "outputs": [],
   "source": [
    "max_s = np.max(worker.flux_stats['seeing'])\n",
    "min_s = np.min(worker.flux_stats['seeing'])\n",
    "delta_s = (max_s - min_s)//10.\n",
    "max_d = np.max(worker.flux_stats['depth'])\n",
    "min_d = np.min(worker.flux_stats['depth'])\n",
    "delta_d = (max_d - min_d)//10."
   ]
  },
  {
   "cell_type": "code",
   "execution_count": null,
   "metadata": {
    "collapsed": false
   },
   "outputs": [],
   "source": [
    "d_grid, s_grid = np.meshgrid(np.arange(min_d, max_d+(delta_d/2.), delta_d), np.arange(min_s, max_s+(delta_s/2.), delta_s))\n",
    "p_val = np.zeros(np.shape(d_grid))\n",
    "for depth in d_grid:\n",
    "    print depth\n",
    "    depth_grid_vals = worker.flux_stats[((worker.flux_stats['depth'] > depth) & (worker.flux_stats['depth'] < (depth + delta_d)))]\n",
    "    for seeing in s_grid:\n",
    "        grid_vals = depth_grid_vals[((depth_grid_vals['seeing'] > seeing) & (depth_grid_vals['seeing'] < seeing + delta_s))]\n",
    "        p_val[depth, seeing] = 2"
   ]
  },
  {
   "cell_type": "code",
   "execution_count": null,
   "metadata": {
    "collapsed": false
   },
   "outputs": [],
   "source": [
    "plt.scatter(worker.flux_stats['depth'], worker.flux_stats['seeing'], c=worker.flux_stats['bias'])\n",
    "plt.colorbar()"
   ]
  },
  {
   "cell_type": "code",
   "execution_count": null,
   "metadata": {
    "collapsed": false
   },
   "outputs": [],
   "source": [
    "plt.scatter(worker.flux_stats['depth'], worker.flux_stats['seeing'], c=worker.flux_stats['sigma'])\n",
    "plt.colorbar()"
   ]
  },
  {
   "cell_type": "code",
   "execution_count": null,
   "metadata": {
    "collapsed": true
   },
   "outputs": [],
   "source": [
    "worker.calc_statistics()"
   ]
  },
  {
   "cell_type": "code",
   "execution_count": null,
   "metadata": {
    "collapsed": true
   },
   "outputs": [],
   "source": []
  }
 ],
 "metadata": {
  "kernelspec": {
   "display_name": "Python 2",
   "language": "python",
   "name": "python2"
  },
  "language_info": {
   "codemirror_mode": {
    "name": "ipython",
    "version": 2
   },
   "file_extension": ".py",
   "mimetype": "text/x-python",
   "name": "python",
   "nbconvert_exporter": "python",
   "pygments_lexer": "ipython2",
   "version": "2.7.12"
  }
 },
 "nbformat": 4,
 "nbformat_minor": 0
}
