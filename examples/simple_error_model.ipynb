{
 "cells": [
  {
   "cell_type": "markdown",
   "metadata": {},
   "source": [
    "# Simple Error Model for Twinkles\n",
    "\n",
    "This notebook will calculate a simple error model for the Twinkles data as a function of the seeing and depth.\n",
    "\n",
    "### Requirements\n",
    "\n",
    "You will need the DESC `Monitor` and its dependencies.\n",
    "\n",
    "You will also need the star_cache.db from  in your `Monitor/data` directory.\n",
    "\n",
    "Finally, you need the correct opsim database for your Twinkles run. For run 1.1 this is kraken_1042 and for run 3 and beyond this is minion_1016. Both are available [here](https://www.lsst.org/scientists/simulations/opsim/opsim-v335-benchmark-surveys)."
   ]
  },
  {
   "cell_type": "code",
   "execution_count": null,
   "metadata": {
    "collapsed": false
   },
   "outputs": [],
   "source": [
    "import os\n",
    "import desc.monitor\n",
    "import matplotlib.pyplot as plt\n",
    "%matplotlib inline\n",
    "%load_ext autoreload\n",
    "%autoreload 2"
   ]
  },
  {
   "cell_type": "markdown",
   "metadata": {
    "collapsed": true
   },
   "source": [
    "### Get truth data for visits\n",
    "\n",
    "We first want to get all the true fluxes that we will need from the cache_star database and store them in a pandas dataframe."
   ]
  },
  {
   "cell_type": "code",
   "execution_count": null,
   "metadata": {
    "collapsed": false
   },
   "outputs": [],
   "source": [
    "star_db_name = os.path.join(os.getenv('$inst_dir'), '/data/', 'star_cache.db')\n",
    "dbConn = desc.monitor.StarCacheDBObj(database='../data/star_cache.db')"
   ]
  },
  {
   "cell_type": "code",
   "execution_count": null,
   "metadata": {
    "collapsed": false
   },
   "outputs": [],
   "source": [
    "worker = desc.monitor.TrueStars(dbConn, '../data/kraken_1042_sqlite.db')"
   ]
  },
  {
   "cell_type": "code",
   "execution_count": null,
   "metadata": {
    "collapsed": false
   },
   "outputs": [],
   "source": [
    "worker.get_true_stars(for_obsHistIds=[220, 230])"
   ]
  },
  {
   "cell_type": "code",
   "execution_count": null,
   "metadata": {
    "collapsed": false
   },
   "outputs": [],
   "source": [
    "worker.star_df"
   ]
  },
  {
   "cell_type": "code",
   "execution_count": null,
   "metadata": {
    "collapsed": true
   },
   "outputs": [],
   "source": []
  }
 ],
 "metadata": {
  "kernelspec": {
   "display_name": "Python 2",
   "language": "python",
   "name": "python2"
  },
  "language_info": {
   "codemirror_mode": {
    "name": "ipython",
    "version": 2
   },
   "file_extension": ".py",
   "mimetype": "text/x-python",
   "name": "python",
   "nbconvert_exporter": "python",
   "pygments_lexer": "ipython2",
   "version": "2.7.12"
  }
 },
 "nbformat": 4,
 "nbformat_minor": 0
}
