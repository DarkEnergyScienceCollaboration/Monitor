{
 "cells": [
  {
   "cell_type": "code",
   "execution_count": 3,
   "metadata": {
    "collapsed": false
   },
   "outputs": [
    {
     "ename": "ImportError",
     "evalue": "No module named desc.monitor",
     "output_type": "error",
     "traceback": [
      "\u001b[0;31m---------------------------------------------------------------------------\u001b[0m",
      "\u001b[0;31mImportError\u001b[0m                               Traceback (most recent call last)",
      "\u001b[0;32m<ipython-input-3-f62229ab013c>\u001b[0m in \u001b[0;36m<module>\u001b[0;34m()\u001b[0m\n\u001b[0;32m----> 1\u001b[0;31m \u001b[0;32mimport\u001b[0m \u001b[0mdesc\u001b[0m\u001b[0;34m.\u001b[0m\u001b[0mmonitor\u001b[0m \u001b[0;32mas\u001b[0m \u001b[0mmonitor\u001b[0m\u001b[0;34m\u001b[0m\u001b[0m\n\u001b[0m",
      "\u001b[0;31mImportError\u001b[0m: No module named desc.monitor"
     ]
    }
   ],
   "source": [
    "import desc.monitor as monitor"
   ]
  },
  {
   "cell_type": "code",
   "execution_count": 2,
   "metadata": {
    "collapsed": true
   },
   "outputs": [],
   "source": [
    "import sncosmo"
   ]
  },
  {
   "cell_type": "code",
   "execution_count": 3,
   "metadata": {
    "collapsed": true
   },
   "outputs": [],
   "source": [
    "lc  = sncosmo.load_example_data()"
   ]
  },
  {
   "cell_type": "code",
   "execution_count": 4,
   "metadata": {
    "collapsed": false
   },
   "outputs": [
    {
     "data": {
      "text/html": [
       "&lt;Table length=5&gt;\n",
       "<table id=\"table4620697808\">\n",
       "<thead><tr><th>time</th><th>band</th><th>flux</th><th>fluxerr</th><th>zp</th><th>zpsys</th></tr></thead>\n",
       "<thead><tr><th>float64</th><th>str5</th><th>float64</th><th>float64</th><th>float64</th><th>str2</th></tr></thead>\n",
       "<tr><td>55070.0</td><td>sdssg</td><td>0.36351153597</td><td>0.672843847541</td><td>25.0</td><td>ab</td></tr>\n",
       "<tr><td>55072.0512821</td><td>sdssr</td><td>-0.200801295864</td><td>0.672843847541</td><td>25.0</td><td>ab</td></tr>\n",
       "<tr><td>55074.1025641</td><td>sdssi</td><td>0.307494232981</td><td>0.672843847541</td><td>25.0</td><td>ab</td></tr>\n",
       "<tr><td>55076.1538462</td><td>sdssz</td><td>1.08776103656</td><td>0.672843847541</td><td>25.0</td><td>ab</td></tr>\n",
       "<tr><td>55078.2051282</td><td>sdssg</td><td>-0.43667895645</td><td>0.672843847541</td><td>25.0</td><td>ab</td></tr>\n",
       "</table>"
      ],
      "text/plain": [
       "<Table length=5>\n",
       "     time      band       flux         fluxerr        zp   zpsys\n",
       "   float64     str5     float64        float64     float64  str2\n",
       "------------- ----- --------------- -------------- ------- -----\n",
       "      55070.0 sdssg   0.36351153597 0.672843847541    25.0    ab\n",
       "55072.0512821 sdssr -0.200801295864 0.672843847541    25.0    ab\n",
       "55074.1025641 sdssi  0.307494232981 0.672843847541    25.0    ab\n",
       "55076.1538462 sdssz   1.08776103656 0.672843847541    25.0    ab\n",
       "55078.2051282 sdssg  -0.43667895645 0.672843847541    25.0    ab"
      ]
     },
     "execution_count": 4,
     "metadata": {},
     "output_type": "execute_result"
    }
   ],
   "source": [
    "lc[:5]"
   ]
  },
  {
   "cell_type": "code",
   "execution_count": 5,
   "metadata": {
    "collapsed": true
   },
   "outputs": [],
   "source": [
    "lcdf = lc.to_pandas()"
   ]
  },
  {
   "cell_type": "code",
   "execution_count": 6,
   "metadata": {
    "collapsed": false
   },
   "outputs": [
    {
     "data": {
      "text/html": [
       "<div>\n",
       "<table border=\"1\" class=\"dataframe\">\n",
       "  <thead>\n",
       "    <tr style=\"text-align: right;\">\n",
       "      <th></th>\n",
       "      <th>time</th>\n",
       "      <th>band</th>\n",
       "      <th>flux</th>\n",
       "      <th>fluxerr</th>\n",
       "      <th>zp</th>\n",
       "      <th>zpsys</th>\n",
       "    </tr>\n",
       "  </thead>\n",
       "  <tbody>\n",
       "    <tr>\n",
       "      <th>0</th>\n",
       "      <td>55070.000000</td>\n",
       "      <td>sdssg</td>\n",
       "      <td>0.363512</td>\n",
       "      <td>0.672844</td>\n",
       "      <td>25</td>\n",
       "      <td>ab</td>\n",
       "    </tr>\n",
       "    <tr>\n",
       "      <th>1</th>\n",
       "      <td>55072.051282</td>\n",
       "      <td>sdssr</td>\n",
       "      <td>-0.200801</td>\n",
       "      <td>0.672844</td>\n",
       "      <td>25</td>\n",
       "      <td>ab</td>\n",
       "    </tr>\n",
       "    <tr>\n",
       "      <th>2</th>\n",
       "      <td>55074.102564</td>\n",
       "      <td>sdssi</td>\n",
       "      <td>0.307494</td>\n",
       "      <td>0.672844</td>\n",
       "      <td>25</td>\n",
       "      <td>ab</td>\n",
       "    </tr>\n",
       "    <tr>\n",
       "      <th>3</th>\n",
       "      <td>55076.153846</td>\n",
       "      <td>sdssz</td>\n",
       "      <td>1.087761</td>\n",
       "      <td>0.672844</td>\n",
       "      <td>25</td>\n",
       "      <td>ab</td>\n",
       "    </tr>\n",
       "    <tr>\n",
       "      <th>4</th>\n",
       "      <td>55078.205128</td>\n",
       "      <td>sdssg</td>\n",
       "      <td>-0.436679</td>\n",
       "      <td>0.672844</td>\n",
       "      <td>25</td>\n",
       "      <td>ab</td>\n",
       "    </tr>\n",
       "  </tbody>\n",
       "</table>\n",
       "</div>"
      ],
      "text/plain": [
       "           time   band      flux   fluxerr  zp zpsys\n",
       "0  55070.000000  sdssg  0.363512  0.672844  25    ab\n",
       "1  55072.051282  sdssr -0.200801  0.672844  25    ab\n",
       "2  55074.102564  sdssi  0.307494  0.672844  25    ab\n",
       "3  55076.153846  sdssz  1.087761  0.672844  25    ab\n",
       "4  55078.205128  sdssg -0.436679  0.672844  25    ab"
      ]
     },
     "execution_count": 6,
     "metadata": {},
     "output_type": "execute_result"
    }
   ],
   "source": [
    "lcdf.head()"
   ]
  },
  {
   "cell_type": "code",
   "execution_count": 7,
   "metadata": {
    "collapsed": false
   },
   "outputs": [
    {
     "data": {
      "text/html": [
       "<div>\n",
       "<table border=\"1\" class=\"dataframe\">\n",
       "  <thead>\n",
       "    <tr style=\"text-align: right;\">\n",
       "      <th></th>\n",
       "      <th>mJD</th>\n",
       "      <th>band</th>\n",
       "      <th>Flux</th>\n",
       "      <th>Flux_Err</th>\n",
       "      <th>zp</th>\n",
       "      <th>zpsys</th>\n",
       "    </tr>\n",
       "  </thead>\n",
       "  <tbody>\n",
       "    <tr>\n",
       "      <th>0</th>\n",
       "      <td>55070.000000</td>\n",
       "      <td>sdssg</td>\n",
       "      <td>0.363512</td>\n",
       "      <td>0.672844</td>\n",
       "      <td>25</td>\n",
       "      <td>ab</td>\n",
       "    </tr>\n",
       "    <tr>\n",
       "      <th>1</th>\n",
       "      <td>55072.051282</td>\n",
       "      <td>sdssr</td>\n",
       "      <td>-0.200801</td>\n",
       "      <td>0.672844</td>\n",
       "      <td>25</td>\n",
       "      <td>ab</td>\n",
       "    </tr>\n",
       "    <tr>\n",
       "      <th>2</th>\n",
       "      <td>55074.102564</td>\n",
       "      <td>sdssi</td>\n",
       "      <td>0.307494</td>\n",
       "      <td>0.672844</td>\n",
       "      <td>25</td>\n",
       "      <td>ab</td>\n",
       "    </tr>\n",
       "    <tr>\n",
       "      <th>3</th>\n",
       "      <td>55076.153846</td>\n",
       "      <td>sdssz</td>\n",
       "      <td>1.087761</td>\n",
       "      <td>0.672844</td>\n",
       "      <td>25</td>\n",
       "      <td>ab</td>\n",
       "    </tr>\n",
       "    <tr>\n",
       "      <th>4</th>\n",
       "      <td>55078.205128</td>\n",
       "      <td>sdssg</td>\n",
       "      <td>-0.436679</td>\n",
       "      <td>0.672844</td>\n",
       "      <td>25</td>\n",
       "      <td>ab</td>\n",
       "    </tr>\n",
       "  </tbody>\n",
       "</table>\n",
       "</div>"
      ],
      "text/plain": [
       "            mJD   band      Flux  Flux_Err  zp zpsys\n",
       "0  55070.000000  sdssg  0.363512  0.672844  25    ab\n",
       "1  55072.051282  sdssr -0.200801  0.672844  25    ab\n",
       "2  55074.102564  sdssi  0.307494  0.672844  25    ab\n",
       "3  55076.153846  sdssz  1.087761  0.672844  25    ab\n",
       "4  55078.205128  sdssg -0.436679  0.672844  25    ab"
      ]
     },
     "execution_count": 7,
     "metadata": {},
     "output_type": "execute_result"
    }
   ],
   "source": [
    "# Just for fun, let us make this a little more crazy\n",
    "badHeaders = lcdf.rename(columns={'time':'mJD', 'flux': 'Flux', 'fluxerr': 'Flux_Err'})\n",
    "badHeaders.head()"
   ]
  },
  {
   "cell_type": "code",
   "execution_count": 8,
   "metadata": {
    "collapsed": true
   },
   "outputs": [],
   "source": [
    "# One thing to note is that all the values here should be in lower case \n",
    "aliases = dict(time=['mjd','expmjd', 'date', 'jd'], \n",
    "               flux=['counts', 'adu'],\n",
    "               fluxerr=['flux_err', 'fluxerror', 'flux_error'],\n",
    "               zp = ['zeropoint', 'zero_point'],\n",
    "               zpsys = ['zero_point_sys'])"
   ]
  },
  {
   "cell_type": "code",
   "execution_count": 9,
   "metadata": {
    "collapsed": false
   },
   "outputs": [
    {
     "name": "stdout",
     "output_type": "stream",
     "text": [
      "{'zpsys': ['zpsys', 'zero_point_sys'], 'fluxerr': ['fluxerr', 'flux_err', 'fluxerror', 'flux_error'], 'flux': ['flux', 'counts', 'adu'], 'time': ['time', 'mjd', 'expmjd', 'date', 'jd'], 'zp': ['zp', 'zeropoint', 'zero_point']}\n"
     ]
    }
   ],
   "source": [
    "standardNamingDict = monitor.aliasDictionary(badHeaders.columns, aliases)"
   ]
  },
  {
   "cell_type": "code",
   "execution_count": 10,
   "metadata": {
    "collapsed": false
   },
   "outputs": [
    {
     "data": {
      "text/plain": [
       "{'Flux': 'flux',\n",
       " 'Flux_Err': 'fluxerr',\n",
       " 'mJD': 'time',\n",
       " 'zp': 'zp',\n",
       " 'zpsys': 'zpsys'}"
      ]
     },
     "execution_count": 10,
     "metadata": {},
     "output_type": "execute_result"
    }
   ],
   "source": [
    "standardNamingDict"
   ]
  },
  {
   "cell_type": "code",
   "execution_count": 11,
   "metadata": {
    "collapsed": false
   },
   "outputs": [
    {
     "name": "stdout",
     "output_type": "stream",
     "text": [
      "Index([u'time', u'band', u'flux', u'fluxerr', u'zp', u'zpsys'], dtype='object')\n"
     ]
    }
   ],
   "source": [
    "badHeaders.rename(columns=standardNamingDict, inplace=True)\n",
    "print(badHeaders.columns)"
   ]
  },
  {
   "cell_type": "code",
   "execution_count": 12,
   "metadata": {
    "collapsed": true
   },
   "outputs": [],
   "source": [
    "import pandas as pd"
   ]
  },
  {
   "cell_type": "code",
   "execution_count": 13,
   "metadata": {
    "collapsed": false
   },
   "outputs": [
    {
     "data": {
      "text/plain": [
       "array([ True,  True,  True,  True,  True,  True], dtype=bool)"
      ]
     },
     "execution_count": 13,
     "metadata": {},
     "output_type": "execute_result"
    }
   ],
   "source": [
    "badHeaders.columns == lcdf.columns"
   ]
  },
  {
   "cell_type": "code",
   "execution_count": 1,
   "metadata": {
    "collapsed": true
   },
   "outputs": [],
   "source": [
    "aliases = dict(time=['mjd','expmjd'], flux=['counts'], fluxerr=['flux_err', 'fluxerror'])"
   ]
  },
  {
   "cell_type": "code",
   "execution_count": 2,
   "metadata": {
    "collapsed": true
   },
   "outputs": [],
   "source": [
    "testSeq = ['mJd', 'band', 'zp', 'Flux', 'fluxError']"
   ]
  },
  {
   "cell_type": "code",
   "execution_count": null,
   "metadata": {
    "collapsed": true
   },
   "outputs": [],
   "source": [
    "monitor."
   ]
  }
 ],
 "metadata": {
  "kernelspec": {
   "display_name": "Python 2",
   "language": "python",
   "name": "python2"
  },
  "language_info": {
   "codemirror_mode": {
    "name": "ipython",
    "version": 2
   },
   "file_extension": ".py",
   "mimetype": "text/x-python",
   "name": "python",
   "nbconvert_exporter": "python",
   "pygments_lexer": "ipython2",
   "version": "2.7.11"
  }
 },
 "nbformat": 4,
 "nbformat_minor": 0
}
