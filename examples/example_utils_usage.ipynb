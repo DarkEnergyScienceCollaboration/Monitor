{
 "cells": [
  {
   "cell_type": "markdown",
   "metadata": {},
   "source": [
    "A common problem faced in reading files into structures like `pandas.dataFrames`, `astropy.table.Table`, `numpy.rec.arrays`\n",
    "is that the files have headers with different names meaning the same thing.\n",
    "\n",
    "For example consider a `time` variable in these files. Let us assume that we are aware that in different files we are interested in the same variable is known by different aliases for example any of \n",
    "['mjd','expmjd', 'date', 'jd'], capitalized differently. We would like our data structure to use the standard name `time` and therfore change occurances of other aliases to standard names. This notebook demonstrates utilities that help in this process."
   ]
  },
  {
   "cell_type": "markdown",
   "metadata": {},
   "source": [
    "## Setup: obtain a `pandas.dataFrame`, an `astropy.table.Table` and `numpy.rec.array` instance which have bad columns"
   ]
  },
  {
   "cell_type": "code",
   "execution_count": 1,
   "metadata": {
    "collapsed": false
   },
   "outputs": [],
   "source": [
    "import desc.monitor as monitor\n",
    "import sncosmo\n",
    "import numpy as np\n",
    "from astropy.table import Table"
   ]
  },
  {
   "cell_type": "code",
   "execution_count": 2,
   "metadata": {
    "collapsed": false
   },
   "outputs": [],
   "source": [
    "# This is what we would like our datastructures to be\n",
    "# Astropy Table\n",
    "lc  = sncosmo.load_example_data()\n",
    "# pandas DataFrame\n",
    "lcdf = lc.to_pandas()\n",
    "# numpy.recarray\n",
    "lcrec = np.asarray(lc)"
   ]
  },
  {
   "cell_type": "code",
   "execution_count": 3,
   "metadata": {
    "collapsed": false
   },
   "outputs": [
    {
     "data": {
      "text/html": [
       "&lt;Table length=5&gt;\n",
       "<table id=\"table4642825296\">\n",
       "<thead><tr><th>time</th><th>band</th><th>flux</th><th>fluxerr</th><th>zp</th><th>zpsys</th></tr></thead>\n",
       "<thead><tr><th>float64</th><th>str5</th><th>float64</th><th>float64</th><th>float64</th><th>str2</th></tr></thead>\n",
       "<tr><td>55070.0</td><td>sdssg</td><td>0.36351153597</td><td>0.672843847541</td><td>25.0</td><td>ab</td></tr>\n",
       "<tr><td>55072.0512821</td><td>sdssr</td><td>-0.200801295864</td><td>0.672843847541</td><td>25.0</td><td>ab</td></tr>\n",
       "<tr><td>55074.1025641</td><td>sdssi</td><td>0.307494232981</td><td>0.672843847541</td><td>25.0</td><td>ab</td></tr>\n",
       "<tr><td>55076.1538462</td><td>sdssz</td><td>1.08776103656</td><td>0.672843847541</td><td>25.0</td><td>ab</td></tr>\n",
       "<tr><td>55078.2051282</td><td>sdssg</td><td>-0.43667895645</td><td>0.672843847541</td><td>25.0</td><td>ab</td></tr>\n",
       "</table>"
      ],
      "text/plain": [
       "<Table length=5>\n",
       "     time      band       flux         fluxerr        zp   zpsys\n",
       "   float64     str5     float64        float64     float64  str2\n",
       "------------- ----- --------------- -------------- ------- -----\n",
       "      55070.0 sdssg   0.36351153597 0.672843847541    25.0    ab\n",
       "55072.0512821 sdssr -0.200801295864 0.672843847541    25.0    ab\n",
       "55074.1025641 sdssi  0.307494232981 0.672843847541    25.0    ab\n",
       "55076.1538462 sdssz   1.08776103656 0.672843847541    25.0    ab\n",
       "55078.2051282 sdssg  -0.43667895645 0.672843847541    25.0    ab"
      ]
     },
     "execution_count": 3,
     "metadata": {},
     "output_type": "execute_result"
    }
   ],
   "source": [
    "lc[:5]"
   ]
  },
  {
   "cell_type": "code",
   "execution_count": 4,
   "metadata": {
    "collapsed": false
   },
   "outputs": [
    {
     "data": {
      "text/html": [
       "<div>\n",
       "<table border=\"1\" class=\"dataframe\">\n",
       "  <thead>\n",
       "    <tr style=\"text-align: right;\">\n",
       "      <th></th>\n",
       "      <th>time</th>\n",
       "      <th>band</th>\n",
       "      <th>flux</th>\n",
       "      <th>fluxerr</th>\n",
       "      <th>zp</th>\n",
       "      <th>zpsys</th>\n",
       "    </tr>\n",
       "  </thead>\n",
       "  <tbody>\n",
       "    <tr>\n",
       "      <th>0</th>\n",
       "      <td>55070.000000</td>\n",
       "      <td>sdssg</td>\n",
       "      <td>0.363512</td>\n",
       "      <td>0.672844</td>\n",
       "      <td>25</td>\n",
       "      <td>ab</td>\n",
       "    </tr>\n",
       "    <tr>\n",
       "      <th>1</th>\n",
       "      <td>55072.051282</td>\n",
       "      <td>sdssr</td>\n",
       "      <td>-0.200801</td>\n",
       "      <td>0.672844</td>\n",
       "      <td>25</td>\n",
       "      <td>ab</td>\n",
       "    </tr>\n",
       "    <tr>\n",
       "      <th>2</th>\n",
       "      <td>55074.102564</td>\n",
       "      <td>sdssi</td>\n",
       "      <td>0.307494</td>\n",
       "      <td>0.672844</td>\n",
       "      <td>25</td>\n",
       "      <td>ab</td>\n",
       "    </tr>\n",
       "    <tr>\n",
       "      <th>3</th>\n",
       "      <td>55076.153846</td>\n",
       "      <td>sdssz</td>\n",
       "      <td>1.087761</td>\n",
       "      <td>0.672844</td>\n",
       "      <td>25</td>\n",
       "      <td>ab</td>\n",
       "    </tr>\n",
       "    <tr>\n",
       "      <th>4</th>\n",
       "      <td>55078.205128</td>\n",
       "      <td>sdssg</td>\n",
       "      <td>-0.436679</td>\n",
       "      <td>0.672844</td>\n",
       "      <td>25</td>\n",
       "      <td>ab</td>\n",
       "    </tr>\n",
       "  </tbody>\n",
       "</table>\n",
       "</div>"
      ],
      "text/plain": [
       "           time   band      flux   fluxerr  zp zpsys\n",
       "0  55070.000000  sdssg  0.363512  0.672844  25    ab\n",
       "1  55072.051282  sdssr -0.200801  0.672844  25    ab\n",
       "2  55074.102564  sdssi  0.307494  0.672844  25    ab\n",
       "3  55076.153846  sdssz  1.087761  0.672844  25    ab\n",
       "4  55078.205128  sdssg -0.436679  0.672844  25    ab"
      ]
     },
     "execution_count": 4,
     "metadata": {},
     "output_type": "execute_result"
    }
   ],
   "source": [
    "lcdf.head()"
   ]
  },
  {
   "cell_type": "code",
   "execution_count": 5,
   "metadata": {
    "collapsed": false
   },
   "outputs": [
    {
     "data": {
      "text/plain": [
       "array([(55070.0, 'sdssg', 0.36351153597, 0.672843847541, 25.0, 'ab'),\n",
       "       (55072.0512821, 'sdssr', -0.200801295864, 0.672843847541, 25.0, 'ab'),\n",
       "       (55074.1025641, 'sdssi', 0.307494232981, 0.672843847541, 25.0, 'ab'),\n",
       "       (55076.1538462, 'sdssz', 1.08776103656, 0.672843847541, 25.0, 'ab'),\n",
       "       (55078.2051282, 'sdssg', -0.43667895645, 0.672843847541, 25.0, 'ab')], \n",
       "      dtype=[('time', '<f8'), ('band', 'S5'), ('flux', '<f8'), ('fluxerr', '<f8'), ('zp', '<f8'), ('zpsys', 'S2')])"
      ]
     },
     "execution_count": 5,
     "metadata": {},
     "output_type": "execute_result"
    }
   ],
   "source": [
    "lcrec[:5]"
   ]
  },
  {
   "cell_type": "markdown",
   "metadata": {},
   "source": [
    "##  Generate the bad headers"
   ]
  },
  {
   "cell_type": "code",
   "execution_count": 6,
   "metadata": {
    "collapsed": false
   },
   "outputs": [],
   "source": [
    "# Just for fun, let us make this a little more crazy\n",
    "# This is the bad Pandas DataFrame\n",
    "badHeadersDF = lcdf.rename(columns={'time':'mJD', 'flux': 'Flux', 'fluxerr': 'Flux_Err'})\n",
    "badHeadersDF.head()\n",
    "# numpy rec.array\n",
    "badHeadersRecArr = badHeadersDF.to_records(index=False)\n",
    "# Astropy Table\n",
    "badHeadersTable = Table(badHeadersRecArr)"
   ]
  },
  {
   "cell_type": "code",
   "execution_count": 7,
   "metadata": {
    "collapsed": false
   },
   "outputs": [
    {
     "data": {
      "text/html": [
       "&lt;Table length=40&gt;\n",
       "<table id=\"table4643105296-324729\" class=\"table table-striped table-bordered table-condensed\">\n",
       "<thead><tr><th>mJD</th><th>band</th><th>Flux</th><th>Flux_Err</th><th>zp</th><th>zpsys</th></tr></thead>\n",
       "<tr><td>55070.0</td><td>sdssg</td><td>0.36351153597</td><td>0.672843847541</td><td>25.0</td><td>ab</td></tr>\n",
       "<tr><td>55072.0512821</td><td>sdssr</td><td>-0.200801295864</td><td>0.672843847541</td><td>25.0</td><td>ab</td></tr>\n",
       "<tr><td>55074.1025641</td><td>sdssi</td><td>0.307494232981</td><td>0.672843847541</td><td>25.0</td><td>ab</td></tr>\n",
       "<tr><td>55076.1538462</td><td>sdssz</td><td>1.08776103656</td><td>0.672843847541</td><td>25.0</td><td>ab</td></tr>\n",
       "<tr><td>55078.2051282</td><td>sdssg</td><td>-0.43667895645</td><td>0.672843847541</td><td>25.0</td><td>ab</td></tr>\n",
       "<tr><td>55080.2564103</td><td>sdssr</td><td>1.09780966779</td><td>0.672843847541</td><td>25.0</td><td>ab</td></tr>\n",
       "<tr><td>55082.3076923</td><td>sdssi</td><td>3.7562685627</td><td>0.672843847541</td><td>25.0</td><td>ab</td></tr>\n",
       "<tr><td>55084.3589744</td><td>sdssz</td><td>5.34858894966</td><td>0.672843847541</td><td>25.0</td><td>ab</td></tr>\n",
       "<tr><td>55086.4102564</td><td>sdssg</td><td>2.82614187269</td><td>0.672843847541</td><td>25.0</td><td>ab</td></tr>\n",
       "<tr><td>55088.4615385</td><td>sdssr</td><td>7.56547045054</td><td>0.672843847541</td><td>25.0</td><td>ab</td></tr>\n",
       "<tr><td>55090.5128205</td><td>sdssi</td><td>7.43316961013</td><td>0.672843847541</td><td>25.0</td><td>ab</td></tr>\n",
       "<tr><td>55092.5641026</td><td>sdssz</td><td>10.7032994531</td><td>0.672843847541</td><td>25.0</td><td>ab</td></tr>\n",
       "<tr><td>55094.6153846</td><td>sdssg</td><td>1.57823662148</td><td>0.672843847541</td><td>25.0</td><td>ab</td></tr>\n",
       "<tr><td>55096.6666667</td><td>sdssr</td><td>9.4201672834</td><td>0.672843847541</td><td>25.0</td><td>ab</td></tr>\n",
       "<tr><td>55098.7179487</td><td>sdssi</td><td>12.1116206376</td><td>0.672843847541</td><td>25.0</td><td>ab</td></tr>\n",
       "<tr><td>55100.7692308</td><td>sdssz</td><td>13.6445335233</td><td>0.672843847541</td><td>25.0</td><td>ab</td></tr>\n",
       "<tr><td>55102.8205128</td><td>sdssg</td><td>2.20875359735</td><td>0.672843847541</td><td>25.0</td><td>ab</td></tr>\n",
       "<tr><td>55104.8717949</td><td>sdssr</td><td>9.63442013167</td><td>0.672843847541</td><td>25.0</td><td>ab</td></tr>\n",
       "<tr><td>55106.9230769</td><td>sdssi</td><td>11.3724767104</td><td>0.672843847541</td><td>25.0</td><td>ab</td></tr>\n",
       "<tr><td>55108.974359</td><td>sdssz</td><td>12.5739036768</td><td>0.672843847541</td><td>25.0</td><td>ab</td></tr>\n",
       "<tr><td>55111.025641</td><td>sdssg</td><td>0.608391162103</td><td>0.672843847541</td><td>25.0</td><td>ab</td></tr>\n",
       "<tr><td>55113.0769231</td><td>sdssr</td><td>5.91642855037</td><td>0.672843847541</td><td>25.0</td><td>ab</td></tr>\n",
       "<tr><td>55115.1282051</td><td>sdssi</td><td>7.99428156096</td><td>0.672843847541</td><td>25.0</td><td>ab</td></tr>\n",
       "<tr><td>55117.1794872</td><td>sdssz</td><td>7.90862755929</td><td>0.672843847541</td><td>25.0</td><td>ab</td></tr>\n",
       "<tr><td>55119.2307692</td><td>sdssg</td><td>0.679196211518</td><td>0.672843847541</td><td>25.0</td><td>ab</td></tr>\n",
       "<tr><td>55121.2820513</td><td>sdssr</td><td>4.03447329476</td><td>0.672843847541</td><td>25.0</td><td>ab</td></tr>\n",
       "<tr><td>55123.3333333</td><td>sdssi</td><td>7.03584281564</td><td>0.672843847541</td><td>25.0</td><td>ab</td></tr>\n",
       "<tr><td>55125.3846154</td><td>sdssz</td><td>6.84086374285</td><td>0.672843847541</td><td>25.0</td><td>ab</td></tr>\n",
       "<tr><td>55127.4358974</td><td>sdssg</td><td>0.325442801496</td><td>0.672843847541</td><td>25.0</td><td>ab</td></tr>\n",
       "<tr><td>55129.4871795</td><td>sdssr</td><td>2.6597485586</td><td>0.672843847541</td><td>25.0</td><td>ab</td></tr>\n",
       "<tr><td>55131.5384615</td><td>sdssi</td><td>3.99520404021</td><td>0.672843847541</td><td>25.0</td><td>ab</td></tr>\n",
       "<tr><td>55133.5897436</td><td>sdssz</td><td>5.73989458094</td><td>0.672843847541</td><td>25.0</td><td>ab</td></tr>\n",
       "<tr><td>55135.6410256</td><td>sdssg</td><td>0.330702283107</td><td>0.672843847541</td><td>25.0</td><td>ab</td></tr>\n",
       "<tr><td>55137.6923077</td><td>sdssr</td><td>0.565286726579</td><td>0.672843847541</td><td>25.0</td><td>ab</td></tr>\n",
       "<tr><td>55139.7435897</td><td>sdssi</td><td>3.04318346795</td><td>0.672843847541</td><td>25.0</td><td>ab</td></tr>\n",
       "<tr><td>55141.7948718</td><td>sdssz</td><td>5.62692686384</td><td>0.672843847541</td><td>25.0</td><td>ab</td></tr>\n",
       "<tr><td>55143.8461538</td><td>sdssg</td><td>-0.722654789013</td><td>0.672843847541</td><td>25.0</td><td>ab</td></tr>\n",
       "<tr><td>55145.8974359</td><td>sdssr</td><td>1.12091764262</td><td>0.672843847541</td><td>25.0</td><td>ab</td></tr>\n",
       "<tr><td>55147.9487179</td><td>sdssi</td><td>2.1246695264</td><td>0.672843847541</td><td>25.0</td><td>ab</td></tr>\n",
       "<tr><td>55150.0</td><td>sdssz</td><td>5.3482175645</td><td>0.672843847541</td><td>25.0</td><td>ab</td></tr>\n",
       "</table><style>table.dataTable {clear: both; width: auto !important; margin: 0 !important;}\n",
       ".dataTables_info, .dataTables_length, .dataTables_filter, .dataTables_paginate{\n",
       "display: inline-block; margin-right: 1em; }\n",
       ".paginate_button { margin-right: 5px; }\n",
       "</style>\n",
       "<script>\n",
       "require.config({paths: {\n",
       "    datatables: 'https://cdn.datatables.net/1.10.9/js/jquery.dataTables.min'\n",
       "}});\n",
       "require([\"datatables\"], function(){\n",
       "    console.log(\"$('#table4643105296-324729').dataTable()\");\n",
       "    $('#table4643105296-324729').dataTable({\n",
       "        \"iDisplayLength\": 5,\n",
       "        \"aLengthMenu\": [[5, 10, 25, 50, 100, 500, 1000, -1], [5, 10, 25, 50, 100, 500, 1000, 'All']],\n",
       "        \"pagingType\": \"full_numbers\"\n",
       "    });\n",
       "});\n",
       "</script>\n"
      ],
      "text/plain": [
       "<IPython.core.display.HTML object>"
      ]
     },
     "execution_count": 7,
     "metadata": {},
     "output_type": "execute_result"
    }
   ],
   "source": [
    "badHeadersTable.show_in_notebook(display_length=5)"
   ]
  },
  {
   "cell_type": "code",
   "execution_count": 8,
   "metadata": {
    "collapsed": false
   },
   "outputs": [
    {
     "data": {
      "text/html": [
       "<div>\n",
       "<table border=\"1\" class=\"dataframe\">\n",
       "  <thead>\n",
       "    <tr style=\"text-align: right;\">\n",
       "      <th></th>\n",
       "      <th>mJD</th>\n",
       "      <th>band</th>\n",
       "      <th>Flux</th>\n",
       "      <th>Flux_Err</th>\n",
       "      <th>zp</th>\n",
       "      <th>zpsys</th>\n",
       "    </tr>\n",
       "  </thead>\n",
       "  <tbody>\n",
       "    <tr>\n",
       "      <th>0</th>\n",
       "      <td>55070.000000</td>\n",
       "      <td>sdssg</td>\n",
       "      <td>0.363512</td>\n",
       "      <td>0.672844</td>\n",
       "      <td>25</td>\n",
       "      <td>ab</td>\n",
       "    </tr>\n",
       "    <tr>\n",
       "      <th>1</th>\n",
       "      <td>55072.051282</td>\n",
       "      <td>sdssr</td>\n",
       "      <td>-0.200801</td>\n",
       "      <td>0.672844</td>\n",
       "      <td>25</td>\n",
       "      <td>ab</td>\n",
       "    </tr>\n",
       "    <tr>\n",
       "      <th>2</th>\n",
       "      <td>55074.102564</td>\n",
       "      <td>sdssi</td>\n",
       "      <td>0.307494</td>\n",
       "      <td>0.672844</td>\n",
       "      <td>25</td>\n",
       "      <td>ab</td>\n",
       "    </tr>\n",
       "    <tr>\n",
       "      <th>3</th>\n",
       "      <td>55076.153846</td>\n",
       "      <td>sdssz</td>\n",
       "      <td>1.087761</td>\n",
       "      <td>0.672844</td>\n",
       "      <td>25</td>\n",
       "      <td>ab</td>\n",
       "    </tr>\n",
       "    <tr>\n",
       "      <th>4</th>\n",
       "      <td>55078.205128</td>\n",
       "      <td>sdssg</td>\n",
       "      <td>-0.436679</td>\n",
       "      <td>0.672844</td>\n",
       "      <td>25</td>\n",
       "      <td>ab</td>\n",
       "    </tr>\n",
       "  </tbody>\n",
       "</table>\n",
       "</div>"
      ],
      "text/plain": [
       "            mJD   band      Flux  Flux_Err  zp zpsys\n",
       "0  55070.000000  sdssg  0.363512  0.672844  25    ab\n",
       "1  55072.051282  sdssr -0.200801  0.672844  25    ab\n",
       "2  55074.102564  sdssi  0.307494  0.672844  25    ab\n",
       "3  55076.153846  sdssz  1.087761  0.672844  25    ab\n",
       "4  55078.205128  sdssg -0.436679  0.672844  25    ab"
      ]
     },
     "execution_count": 8,
     "metadata": {},
     "output_type": "execute_result"
    }
   ],
   "source": [
    "badHeadersDF.head(5)"
   ]
  },
  {
   "cell_type": "code",
   "execution_count": 9,
   "metadata": {
    "collapsed": false
   },
   "outputs": [
    {
     "data": {
      "text/plain": [
       "rec.array([(55070.0, 'sdssg', 0.36351153597, 0.672843847541, 25.0, 'ab'),\n",
       " (55072.0512821, 'sdssr', -0.200801295864, 0.672843847541, 25.0, 'ab'),\n",
       " (55074.1025641, 'sdssi', 0.307494232981, 0.672843847541, 25.0, 'ab'),\n",
       " (55076.1538462, 'sdssz', 1.08776103656, 0.672843847541, 25.0, 'ab'),\n",
       " (55078.2051282, 'sdssg', -0.43667895645, 0.672843847541, 25.0, 'ab')], \n",
       "          dtype=[('mJD', '<f8'), ('band', 'O'), ('Flux', '<f8'), ('Flux_Err', '<f8'), ('zp', '<f8'), ('zpsys', 'O')])"
      ]
     },
     "execution_count": 9,
     "metadata": {},
     "output_type": "execute_result"
    }
   ],
   "source": [
    "badHeadersRecArr[:5]"
   ]
  },
  {
   "cell_type": "markdown",
   "metadata": {},
   "source": [
    "## The possible Aliases"
   ]
  },
  {
   "cell_type": "code",
   "execution_count": 10,
   "metadata": {
    "collapsed": true
   },
   "outputs": [],
   "source": [
    "# One thing to note is that all the values here should be in lower case \n",
    "aliases = dict(time=['mjd','expmjd', 'date', 'jd'], \n",
    "               flux=['counts', 'adu'],\n",
    "               fluxerr=['flux_err', 'fluxerror', 'flux_error'],\n",
    "               zp = ['zeropoint', 'zero_point'],\n",
    "               zpsys = ['zero_point_sys'])"
   ]
  },
  {
   "cell_type": "code",
   "execution_count": 11,
   "metadata": {
    "collapsed": false
   },
   "outputs": [],
   "source": [
    "standardNamingDict = monitor.aliasDictionary(badHeadersDF.columns, aliases)"
   ]
  },
  {
   "cell_type": "code",
   "execution_count": 12,
   "metadata": {
    "collapsed": false
   },
   "outputs": [
    {
     "data": {
      "text/plain": [
       "{'Flux': 'flux',\n",
       " 'Flux_Err': 'fluxerr',\n",
       " 'mJD': 'time',\n",
       " 'zp': 'zp',\n",
       " 'zpsys': 'zpsys'}"
      ]
     },
     "execution_count": 12,
     "metadata": {},
     "output_type": "execute_result"
    }
   ],
   "source": [
    "standardNamingDict"
   ]
  },
  {
   "cell_type": "code",
   "execution_count": 13,
   "metadata": {
    "collapsed": true
   },
   "outputs": [],
   "source": [
    "standardizedNames = monitor.mapSeq2Standard(badHeadersDF.columns, standardNamingDict)"
   ]
  },
  {
   "cell_type": "markdown",
   "metadata": {},
   "source": [
    "## Fix the dataFrame"
   ]
  },
  {
   "cell_type": "code",
   "execution_count": 14,
   "metadata": {
    "collapsed": false
   },
   "outputs": [
    {
     "name": "stdout",
     "output_type": "stream",
     "text": [
      "Index([u'time', u'band', u'flux', u'fluxerr', u'zp', u'zpsys'], dtype='object')\n"
     ]
    }
   ],
   "source": [
    "badHeadersDF.rename(columns=standardNamingDict, inplace=True)\n",
    "print(badHeadersDF.columns)"
   ]
  },
  {
   "cell_type": "markdown",
   "metadata": {},
   "source": [
    "## Fix the rec.array"
   ]
  },
  {
   "cell_type": "code",
   "execution_count": 15,
   "metadata": {
    "collapsed": false
   },
   "outputs": [],
   "source": [
    "badHeadersRecArr.dtype.names = standardizedNames"
   ]
  },
  {
   "cell_type": "code",
   "execution_count": 16,
   "metadata": {
    "collapsed": false
   },
   "outputs": [
    {
     "data": {
      "text/plain": [
       "rec.array([(55070.0, 'sdssg', 0.36351153597, 0.672843847541, 25.0, 'ab'),\n",
       " (55072.0512821, 'sdssr', -0.200801295864, 0.672843847541, 25.0, 'ab'),\n",
       " (55074.1025641, 'sdssi', 0.307494232981, 0.672843847541, 25.0, 'ab'),\n",
       " (55076.1538462, 'sdssz', 1.08776103656, 0.672843847541, 25.0, 'ab'),\n",
       " (55078.2051282, 'sdssg', -0.43667895645, 0.672843847541, 25.0, 'ab')], \n",
       "          dtype=[('time', '<f8'), ('band', 'O'), ('flux', '<f8'), ('fluxerr', '<f8'), ('zp', '<f8'), ('zpsys', 'O')])"
      ]
     },
     "execution_count": 16,
     "metadata": {},
     "output_type": "execute_result"
    }
   ],
   "source": [
    "badHeadersRecArr[:5]"
   ]
  },
  {
   "cell_type": "markdown",
   "metadata": {},
   "source": [
    "## Fixing the `astropy.table.table`"
   ]
  },
  {
   "cell_type": "code",
   "execution_count": 17,
   "metadata": {
    "collapsed": false
   },
   "outputs": [],
   "source": [
    "_ = [badHeadersTable.rename_column(col, stdcol) \n",
    "     for (col, stdcol) in standardNamingDict.iteritems() \n",
    "     if not col == stdcol]"
   ]
  },
  {
   "cell_type": "code",
   "execution_count": 18,
   "metadata": {
    "collapsed": false
   },
   "outputs": [
    {
     "data": {
      "text/html": [
       "&lt;Table length=40&gt;\n",
       "<table id=\"table4643105296-307749\" class=\"table table-striped table-bordered table-condensed\">\n",
       "<thead><tr><th>time</th><th>band</th><th>flux</th><th>fluxerr</th><th>zp</th><th>zpsys</th></tr></thead>\n",
       "<tr><td>55070.0</td><td>sdssg</td><td>0.36351153597</td><td>0.672843847541</td><td>25.0</td><td>ab</td></tr>\n",
       "<tr><td>55072.0512821</td><td>sdssr</td><td>-0.200801295864</td><td>0.672843847541</td><td>25.0</td><td>ab</td></tr>\n",
       "<tr><td>55074.1025641</td><td>sdssi</td><td>0.307494232981</td><td>0.672843847541</td><td>25.0</td><td>ab</td></tr>\n",
       "<tr><td>55076.1538462</td><td>sdssz</td><td>1.08776103656</td><td>0.672843847541</td><td>25.0</td><td>ab</td></tr>\n",
       "<tr><td>55078.2051282</td><td>sdssg</td><td>-0.43667895645</td><td>0.672843847541</td><td>25.0</td><td>ab</td></tr>\n",
       "<tr><td>55080.2564103</td><td>sdssr</td><td>1.09780966779</td><td>0.672843847541</td><td>25.0</td><td>ab</td></tr>\n",
       "<tr><td>55082.3076923</td><td>sdssi</td><td>3.7562685627</td><td>0.672843847541</td><td>25.0</td><td>ab</td></tr>\n",
       "<tr><td>55084.3589744</td><td>sdssz</td><td>5.34858894966</td><td>0.672843847541</td><td>25.0</td><td>ab</td></tr>\n",
       "<tr><td>55086.4102564</td><td>sdssg</td><td>2.82614187269</td><td>0.672843847541</td><td>25.0</td><td>ab</td></tr>\n",
       "<tr><td>55088.4615385</td><td>sdssr</td><td>7.56547045054</td><td>0.672843847541</td><td>25.0</td><td>ab</td></tr>\n",
       "<tr><td>55090.5128205</td><td>sdssi</td><td>7.43316961013</td><td>0.672843847541</td><td>25.0</td><td>ab</td></tr>\n",
       "<tr><td>55092.5641026</td><td>sdssz</td><td>10.7032994531</td><td>0.672843847541</td><td>25.0</td><td>ab</td></tr>\n",
       "<tr><td>55094.6153846</td><td>sdssg</td><td>1.57823662148</td><td>0.672843847541</td><td>25.0</td><td>ab</td></tr>\n",
       "<tr><td>55096.6666667</td><td>sdssr</td><td>9.4201672834</td><td>0.672843847541</td><td>25.0</td><td>ab</td></tr>\n",
       "<tr><td>55098.7179487</td><td>sdssi</td><td>12.1116206376</td><td>0.672843847541</td><td>25.0</td><td>ab</td></tr>\n",
       "<tr><td>55100.7692308</td><td>sdssz</td><td>13.6445335233</td><td>0.672843847541</td><td>25.0</td><td>ab</td></tr>\n",
       "<tr><td>55102.8205128</td><td>sdssg</td><td>2.20875359735</td><td>0.672843847541</td><td>25.0</td><td>ab</td></tr>\n",
       "<tr><td>55104.8717949</td><td>sdssr</td><td>9.63442013167</td><td>0.672843847541</td><td>25.0</td><td>ab</td></tr>\n",
       "<tr><td>55106.9230769</td><td>sdssi</td><td>11.3724767104</td><td>0.672843847541</td><td>25.0</td><td>ab</td></tr>\n",
       "<tr><td>55108.974359</td><td>sdssz</td><td>12.5739036768</td><td>0.672843847541</td><td>25.0</td><td>ab</td></tr>\n",
       "<tr><td>55111.025641</td><td>sdssg</td><td>0.608391162103</td><td>0.672843847541</td><td>25.0</td><td>ab</td></tr>\n",
       "<tr><td>55113.0769231</td><td>sdssr</td><td>5.91642855037</td><td>0.672843847541</td><td>25.0</td><td>ab</td></tr>\n",
       "<tr><td>55115.1282051</td><td>sdssi</td><td>7.99428156096</td><td>0.672843847541</td><td>25.0</td><td>ab</td></tr>\n",
       "<tr><td>55117.1794872</td><td>sdssz</td><td>7.90862755929</td><td>0.672843847541</td><td>25.0</td><td>ab</td></tr>\n",
       "<tr><td>55119.2307692</td><td>sdssg</td><td>0.679196211518</td><td>0.672843847541</td><td>25.0</td><td>ab</td></tr>\n",
       "<tr><td>55121.2820513</td><td>sdssr</td><td>4.03447329476</td><td>0.672843847541</td><td>25.0</td><td>ab</td></tr>\n",
       "<tr><td>55123.3333333</td><td>sdssi</td><td>7.03584281564</td><td>0.672843847541</td><td>25.0</td><td>ab</td></tr>\n",
       "<tr><td>55125.3846154</td><td>sdssz</td><td>6.84086374285</td><td>0.672843847541</td><td>25.0</td><td>ab</td></tr>\n",
       "<tr><td>55127.4358974</td><td>sdssg</td><td>0.325442801496</td><td>0.672843847541</td><td>25.0</td><td>ab</td></tr>\n",
       "<tr><td>55129.4871795</td><td>sdssr</td><td>2.6597485586</td><td>0.672843847541</td><td>25.0</td><td>ab</td></tr>\n",
       "<tr><td>55131.5384615</td><td>sdssi</td><td>3.99520404021</td><td>0.672843847541</td><td>25.0</td><td>ab</td></tr>\n",
       "<tr><td>55133.5897436</td><td>sdssz</td><td>5.73989458094</td><td>0.672843847541</td><td>25.0</td><td>ab</td></tr>\n",
       "<tr><td>55135.6410256</td><td>sdssg</td><td>0.330702283107</td><td>0.672843847541</td><td>25.0</td><td>ab</td></tr>\n",
       "<tr><td>55137.6923077</td><td>sdssr</td><td>0.565286726579</td><td>0.672843847541</td><td>25.0</td><td>ab</td></tr>\n",
       "<tr><td>55139.7435897</td><td>sdssi</td><td>3.04318346795</td><td>0.672843847541</td><td>25.0</td><td>ab</td></tr>\n",
       "<tr><td>55141.7948718</td><td>sdssz</td><td>5.62692686384</td><td>0.672843847541</td><td>25.0</td><td>ab</td></tr>\n",
       "<tr><td>55143.8461538</td><td>sdssg</td><td>-0.722654789013</td><td>0.672843847541</td><td>25.0</td><td>ab</td></tr>\n",
       "<tr><td>55145.8974359</td><td>sdssr</td><td>1.12091764262</td><td>0.672843847541</td><td>25.0</td><td>ab</td></tr>\n",
       "<tr><td>55147.9487179</td><td>sdssi</td><td>2.1246695264</td><td>0.672843847541</td><td>25.0</td><td>ab</td></tr>\n",
       "<tr><td>55150.0</td><td>sdssz</td><td>5.3482175645</td><td>0.672843847541</td><td>25.0</td><td>ab</td></tr>\n",
       "</table><style>table.dataTable {clear: both; width: auto !important; margin: 0 !important;}\n",
       ".dataTables_info, .dataTables_length, .dataTables_filter, .dataTables_paginate{\n",
       "display: inline-block; margin-right: 1em; }\n",
       ".paginate_button { margin-right: 5px; }\n",
       "</style>\n",
       "<script>\n",
       "require.config({paths: {\n",
       "    datatables: 'https://cdn.datatables.net/1.10.9/js/jquery.dataTables.min'\n",
       "}});\n",
       "require([\"datatables\"], function(){\n",
       "    console.log(\"$('#table4643105296-307749').dataTable()\");\n",
       "    $('#table4643105296-307749').dataTable({\n",
       "        \"iDisplayLength\": 5,\n",
       "        \"aLengthMenu\": [[5, 10, 25, 50, 100, 500, 1000, -1], [5, 10, 25, 50, 100, 500, 1000, 'All']],\n",
       "        \"pagingType\": \"full_numbers\"\n",
       "    });\n",
       "});\n",
       "</script>\n"
      ],
      "text/plain": [
       "<IPython.core.display.HTML object>"
      ]
     },
     "execution_count": 18,
     "metadata": {},
     "output_type": "execute_result"
    }
   ],
   "source": [
    "badHeadersTable.show_in_notebook(display_length=5)"
   ]
  }
 ],
 "metadata": {
  "kernelspec": {
   "display_name": "Python 2",
   "language": "python",
   "name": "python2"
  },
  "language_info": {
   "codemirror_mode": {
    "name": "ipython",
    "version": 2
   },
   "file_extension": ".py",
   "mimetype": "text/x-python",
   "name": "python",
   "nbconvert_exporter": "python",
   "pygments_lexer": "ipython2",
   "version": "2.7.11"
  }
 },
 "nbformat": 4,
 "nbformat_minor": 0
}
