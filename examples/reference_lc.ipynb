{
 "cells": [
  {
   "cell_type": "code",
   "execution_count": 1,
   "metadata": {
    "collapsed": true
   },
   "outputs": [],
   "source": [
    "from __future__ import absolute_import, division, print_function"
   ]
  },
  {
   "cell_type": "code",
   "execution_count": 2,
   "metadata": {
    "collapsed": false
   },
   "outputs": [
    {
     "name": "stderr",
     "output_type": "stream",
     "text": [
      "/Users/rbiswas/src/LSST/sims_catalogs_generation/python/lsst/sims/catalogs/generation/db/dbConnection.py:438: UserWarning: Duplicate object type id 25 specified: \n",
      "Output object ids may not be unique.\n",
      "This may not be a problem if you do not want globally unique id values\n",
      "  'want globally unique id values')\n",
      "/Users/rbiswas/src/LSST/sims_catalogs_generation/python/lsst/sims/catalogs/generation/db/dbConnection.py:438: UserWarning: Duplicate object type id 40 specified: \n",
      "Output object ids may not be unique.\n",
      "This may not be a problem if you do not want globally unique id values\n",
      "  'want globally unique id values')\n"
     ]
    }
   ],
   "source": [
    "from desc.monitor import RefLightCurves"
   ]
  },
  {
   "cell_type": "code",
   "execution_count": 3,
   "metadata": {
    "collapsed": true
   },
   "outputs": [],
   "source": [
    "import os"
   ]
  },
  {
   "cell_type": "code",
   "execution_count": 4,
   "metadata": {
    "collapsed": true
   },
   "outputs": [],
   "source": [
    "import numpy as np\n",
    "import pandas as pd"
   ]
  },
  {
   "cell_type": "code",
   "execution_count": 5,
   "metadata": {
    "collapsed": false
   },
   "outputs": [
    {
     "name": "stderr",
     "output_type": "stream",
     "text": [
      "/usr/local/manual/anaconda/lib/python2.7/site-packages/matplotlib/__init__.py:872: UserWarning: axes.color_cycle is deprecated and replaced with axes.prop_cycle; please use the latter.\n",
      "  warnings.warn(self.msg_depr % (key, alt_key))\n"
     ]
    }
   ],
   "source": [
    "%matplotlib inline\n",
    "import matplotlib.pyplot as plt\n",
    "import seaborn as sns\n",
    "sns.set()"
   ]
  },
  {
   "cell_type": "code",
   "execution_count": 6,
   "metadata": {
    "collapsed": true
   },
   "outputs": [],
   "source": [
    "import desc.monitor as monitor"
   ]
  },
  {
   "cell_type": "code",
   "execution_count": 7,
   "metadata": {
    "collapsed": false
   },
   "outputs": [
    {
     "data": {
      "text/plain": [
       "'/Users/rbiswas/doc/projects/desc/Monitor/python/desc/monitor/__init__.pyc'"
      ]
     },
     "execution_count": 7,
     "metadata": {},
     "output_type": "execute_result"
    }
   ],
   "source": [
    "monitor.__file__"
   ]
  },
  {
   "cell_type": "code",
   "execution_count": 8,
   "metadata": {
    "collapsed": false
   },
   "outputs": [
    {
     "data": {
      "text/plain": [
       "'/Users/rbiswas/doc/projects/desc/Monitor'"
      ]
     },
     "execution_count": 8,
     "metadata": {},
     "output_type": "execute_result"
    }
   ],
   "source": [
    "monitor.__file__.split('/python')[0]"
   ]
  },
  {
   "cell_type": "code",
   "execution_count": 9,
   "metadata": {
    "collapsed": false
   },
   "outputs": [],
   "source": [
    "data_dir = os.path.join(monitor.__file__.split('/python')[0], 'data')"
   ]
  },
  {
   "cell_type": "code",
   "execution_count": 10,
   "metadata": {
    "collapsed": true
   },
   "outputs": [],
   "source": [
    "opsimCsv = os.path.join(data_dir, 'SelectedKrakenVisits.csv')"
   ]
  },
  {
   "cell_type": "code",
   "execution_count": 11,
   "metadata": {
    "collapsed": false
   },
   "outputs": [],
   "source": [
    "opsimdf = pd.read_csv(opsimCsv, index_col='obsHistID')"
   ]
  },
  {
   "cell_type": "code",
   "execution_count": 12,
   "metadata": {
    "collapsed": false
   },
   "outputs": [],
   "source": [
    "df = opsimdf[['expMJD', 'filter', 'fiveSigmaDepth']]"
   ]
  },
  {
   "cell_type": "code",
   "execution_count": 13,
   "metadata": {
    "collapsed": false
   },
   "outputs": [
    {
     "data": {
      "text/plain": [
       "Int64Index([    220,     230,     200,     276,     250,    1637,    2226,\n",
       "               2942,    3665,    4571,\n",
       "            ...\n",
       "            2440831, 2440841, 2440811, 2440887, 2440861, 2442752, 2442772,\n",
       "            2442742, 2442799, 2442775],\n",
       "           dtype='int64', name=u'obsHistID', length=1227)"
      ]
     },
     "execution_count": 13,
     "metadata": {},
     "output_type": "execute_result"
    }
   ],
   "source": [
    "df.index"
   ]
  },
  {
   "cell_type": "code",
   "execution_count": 14,
   "metadata": {
    "collapsed": false
   },
   "outputs": [],
   "source": [
    "import pymssql\n",
    "from lsst.utils import getPackageDir\n",
    "import lsst.sims.catUtils.baseCatalogModels as bcm\n",
    "from lsst.daf.persistence import DbAuth"
   ]
  },
  {
   "cell_type": "code",
   "execution_count": 15,
   "metadata": {
    "collapsed": true
   },
   "outputs": [],
   "source": [
    "config = bcm.BaseCatalogConfig()"
   ]
  },
  {
   "cell_type": "code",
   "execution_count": 16,
   "metadata": {
    "collapsed": false
   },
   "outputs": [],
   "source": [
    "config.load(os.path.join(getPackageDir(\"sims_catUtils\"), \"config\", \"db.py\"))"
   ]
  },
  {
   "cell_type": "code",
   "execution_count": 17,
   "metadata": {
    "collapsed": true
   },
   "outputs": [],
   "source": [
    "username = DbAuth.username(config.host, config.port)    \n",
    "password = DbAuth.password(config.host, config.port)\n",
    "DBConnection = pymssql.connect(user=username,\n",
    "                               password=password,\n",
    "                               database=config.database,\n",
    "                               port=config.port)\n",
    "db = DBConnection.cursor()\n",
    "reflc = RefLightCurves(idSequence=(6001163623700, 6000324908000),\n",
    "                       tableName='TwinkSN',\n",
    "                       dbConnection=DBConnection,\n",
    "                       dbCursor=db)"
   ]
  },
  {
   "cell_type": "code",
   "execution_count": 18,
   "metadata": {
    "collapsed": false
   },
   "outputs": [],
   "source": [
    "sn = reflc.astro_object(idValue=6001163623700)"
   ]
  },
  {
   "cell_type": "code",
   "execution_count": 29,
   "metadata": {
    "collapsed": false
   },
   "outputs": [
    {
     "data": {
      "text/plain": [
       "{'MWE(B-V)': 0.0082679092884063721,\n",
       " 'ModelSource': 'salt2-extended',\n",
       " '_dec': -0.48595833295788454,\n",
       " '_ra': 0.92158758150141751,\n",
       " 'c': -0.043500407073100003,\n",
       " 'hostebv': 0.0,\n",
       " 'hostr_v': 3.1000000000000001,\n",
       " 'mwebv': 0.0,\n",
       " 'mwr_v': 3.1000000000000001,\n",
       " 't0': 61311.094089960003,\n",
       " 'x0': 2.4638469756499999e-05,\n",
       " 'x1': -1.98170765603,\n",
       " 'z': 0.34010000000000001}"
      ]
     },
     "execution_count": 29,
     "metadata": {},
     "output_type": "execute_result"
    }
   ],
   "source": [
    "sn.SNstate"
   ]
  },
  {
   "cell_type": "code",
   "execution_count": 19,
   "metadata": {
    "collapsed": true
   },
   "outputs": [],
   "source": [
    "from lsst.sims.photUtils import BandpassDict"
   ]
  },
  {
   "cell_type": "code",
   "execution_count": 20,
   "metadata": {
    "collapsed": true
   },
   "outputs": [],
   "source": [
    "lsstBP = BandpassDict.loadBandpassesFromFiles()"
   ]
  },
  {
   "cell_type": "code",
   "execution_count": 21,
   "metadata": {
    "collapsed": false
   },
   "outputs": [
    {
     "data": {
      "text/html": [
       "<div>\n",
       "<table border=\"1\" class=\"dataframe\">\n",
       "  <thead>\n",
       "    <tr style=\"text-align: right;\">\n",
       "      <th></th>\n",
       "      <th>band</th>\n",
       "      <th>flux</th>\n",
       "      <th>fluxerr</th>\n",
       "      <th>m5</th>\n",
       "      <th>time</th>\n",
       "    </tr>\n",
       "    <tr>\n",
       "      <th>obsHistID</th>\n",
       "      <th></th>\n",
       "      <th></th>\n",
       "      <th></th>\n",
       "      <th></th>\n",
       "      <th></th>\n",
       "    </tr>\n",
       "  </thead>\n",
       "  <tbody>\n",
       "    <tr>\n",
       "      <th>1163962</th>\n",
       "      <td>g</td>\n",
       "      <td>1.679591e-12</td>\n",
       "      <td>7.196063e-11</td>\n",
       "      <td>23.603784</td>\n",
       "      <td>61285.264120</td>\n",
       "    </tr>\n",
       "    <tr>\n",
       "      <th>1163982</th>\n",
       "      <td>i</td>\n",
       "      <td>1.380898e-12</td>\n",
       "      <td>1.049428e-10</td>\n",
       "      <td>23.193676</td>\n",
       "      <td>61285.273819</td>\n",
       "    </tr>\n",
       "    <tr>\n",
       "      <th>1163952</th>\n",
       "      <td>r</td>\n",
       "      <td>7.850403e-13</td>\n",
       "      <td>6.779478e-11</td>\n",
       "      <td>23.667112</td>\n",
       "      <td>61285.258587</td>\n",
       "    </tr>\n",
       "    <tr>\n",
       "      <th>1164028</th>\n",
       "      <td>y</td>\n",
       "      <td>1.534653e-12</td>\n",
       "      <td>3.665787e-10</td>\n",
       "      <td>21.836442</td>\n",
       "      <td>61285.295717</td>\n",
       "    </tr>\n",
       "    <tr>\n",
       "      <th>1164008</th>\n",
       "      <td>z</td>\n",
       "      <td>1.267230e-12</td>\n",
       "      <td>1.630022e-10</td>\n",
       "      <td>22.716097</td>\n",
       "      <td>61285.286018</td>\n",
       "    </tr>\n",
       "    <tr>\n",
       "      <th>1168321</th>\n",
       "      <td>u</td>\n",
       "      <td>1.115277e-10</td>\n",
       "      <td>7.266888e-11</td>\n",
       "      <td>23.575874</td>\n",
       "      <td>61298.266570</td>\n",
       "    </tr>\n",
       "    <tr>\n",
       "      <th>1169136</th>\n",
       "      <td>u</td>\n",
       "      <td>1.170866e-10</td>\n",
       "      <td>9.147401e-11</td>\n",
       "      <td>23.329497</td>\n",
       "      <td>61299.229359</td>\n",
       "    </tr>\n",
       "    <tr>\n",
       "      <th>1172807</th>\n",
       "      <td>g</td>\n",
       "      <td>1.093165e-09</td>\n",
       "      <td>5.447195e-11</td>\n",
       "      <td>23.937104</td>\n",
       "      <td>61305.284817</td>\n",
       "    </tr>\n",
       "    <tr>\n",
       "      <th>1172827</th>\n",
       "      <td>i</td>\n",
       "      <td>1.401860e-09</td>\n",
       "      <td>7.780287e-11</td>\n",
       "      <td>23.548731</td>\n",
       "      <td>61305.294516</td>\n",
       "    </tr>\n",
       "    <tr>\n",
       "      <th>1172797</th>\n",
       "      <td>r</td>\n",
       "      <td>1.563517e-09</td>\n",
       "      <td>5.155406e-11</td>\n",
       "      <td>24.024767</td>\n",
       "      <td>61305.279284</td>\n",
       "    </tr>\n",
       "    <tr>\n",
       "      <th>1172873</th>\n",
       "      <td>y</td>\n",
       "      <td>1.124699e-09</td>\n",
       "      <td>3.547682e-10</td>\n",
       "      <td>21.875543</td>\n",
       "      <td>61305.316414</td>\n",
       "    </tr>\n",
       "    <tr>\n",
       "      <th>1172853</th>\n",
       "      <td>z</td>\n",
       "      <td>1.494179e-09</td>\n",
       "      <td>1.191331e-10</td>\n",
       "      <td>23.075125</td>\n",
       "      <td>61305.306715</td>\n",
       "    </tr>\n",
       "    <tr>\n",
       "      <th>1175685</th>\n",
       "      <td>g</td>\n",
       "      <td>1.273107e-09</td>\n",
       "      <td>1.120111e-10</td>\n",
       "      <td>23.134438</td>\n",
       "      <td>61308.378875</td>\n",
       "    </tr>\n",
       "    <tr>\n",
       "      <th>1175695</th>\n",
       "      <td>i</td>\n",
       "      <td>1.671871e-09</td>\n",
       "      <td>3.759478e-10</td>\n",
       "      <td>21.814554</td>\n",
       "      <td>61308.384407</td>\n",
       "    </tr>\n",
       "    <tr>\n",
       "      <th>1175665</th>\n",
       "      <td>r</td>\n",
       "      <td>1.834366e-09</td>\n",
       "      <td>8.526339e-11</td>\n",
       "      <td>23.445816</td>\n",
       "      <td>61308.369176</td>\n",
       "    </tr>\n",
       "    <tr>\n",
       "      <th>1175715</th>\n",
       "      <td>z</td>\n",
       "      <td>1.641257e-09</td>\n",
       "      <td>3.729491e-10</td>\n",
       "      <td>21.823136</td>\n",
       "      <td>61308.394106</td>\n",
       "    </tr>\n",
       "    <tr>\n",
       "      <th>1181517</th>\n",
       "      <td>g</td>\n",
       "      <td>9.749873e-10</td>\n",
       "      <td>5.841172e-11</td>\n",
       "      <td>23.854261</td>\n",
       "      <td>61315.200896</td>\n",
       "    </tr>\n",
       "    <tr>\n",
       "      <th>1181537</th>\n",
       "      <td>i</td>\n",
       "      <td>1.778269e-09</td>\n",
       "      <td>8.914611e-11</td>\n",
       "      <td>23.400990</td>\n",
       "      <td>61315.210595</td>\n",
       "    </tr>\n",
       "    <tr>\n",
       "      <th>1181507</th>\n",
       "      <td>r</td>\n",
       "      <td>1.771554e-09</td>\n",
       "      <td>5.753126e-11</td>\n",
       "      <td>23.900783</td>\n",
       "      <td>61315.195364</td>\n",
       "    </tr>\n",
       "    <tr>\n",
       "      <th>1181583</th>\n",
       "      <td>y</td>\n",
       "      <td>1.053068e-09</td>\n",
       "      <td>4.138274e-10</td>\n",
       "      <td>21.708033</td>\n",
       "      <td>61315.232493</td>\n",
       "    </tr>\n",
       "    <tr>\n",
       "      <th>1181563</th>\n",
       "      <td>z</td>\n",
       "      <td>1.552663e-09</td>\n",
       "      <td>1.399879e-10</td>\n",
       "      <td>22.895989</td>\n",
       "      <td>61315.222794</td>\n",
       "    </tr>\n",
       "    <tr>\n",
       "      <th>1184084</th>\n",
       "      <td>g</td>\n",
       "      <td>7.726484e-10</td>\n",
       "      <td>2.636043e-11</td>\n",
       "      <td>24.789128</td>\n",
       "      <td>61318.196505</td>\n",
       "    </tr>\n",
       "    <tr>\n",
       "      <th>1184104</th>\n",
       "      <td>i</td>\n",
       "      <td>1.660995e-09</td>\n",
       "      <td>5.824162e-11</td>\n",
       "      <td>23.898602</td>\n",
       "      <td>61318.206204</td>\n",
       "    </tr>\n",
       "    <tr>\n",
       "      <th>1184074</th>\n",
       "      <td>r</td>\n",
       "      <td>1.551546e-09</td>\n",
       "      <td>3.645586e-11</td>\n",
       "      <td>24.466161</td>\n",
       "      <td>61318.190972</td>\n",
       "    </tr>\n",
       "    <tr>\n",
       "      <th>1184150</th>\n",
       "      <td>y</td>\n",
       "      <td>8.886460e-10</td>\n",
       "      <td>3.254226e-10</td>\n",
       "      <td>21.968522</td>\n",
       "      <td>61318.228102</td>\n",
       "    </tr>\n",
       "    <tr>\n",
       "      <th>1184130</th>\n",
       "      <td>z</td>\n",
       "      <td>1.452973e-09</td>\n",
       "      <td>8.902963e-11</td>\n",
       "      <td>23.404482</td>\n",
       "      <td>61318.218403</td>\n",
       "    </tr>\n",
       "    <tr>\n",
       "      <th>1185746</th>\n",
       "      <td>u</td>\n",
       "      <td>2.243045e-11</td>\n",
       "      <td>9.104542e-11</td>\n",
       "      <td>23.329094</td>\n",
       "      <td>61320.168567</td>\n",
       "    </tr>\n",
       "    <tr>\n",
       "      <th>1186645</th>\n",
       "      <td>u</td>\n",
       "      <td>2.563508e-11</td>\n",
       "      <td>1.153219e-10</td>\n",
       "      <td>23.077698</td>\n",
       "      <td>61321.172913</td>\n",
       "    </tr>\n",
       "    <tr>\n",
       "      <th>1187505</th>\n",
       "      <td>u</td>\n",
       "      <td>4.066943e-11</td>\n",
       "      <td>1.086389e-10</td>\n",
       "      <td>23.141943</td>\n",
       "      <td>61322.163862</td>\n",
       "    </tr>\n",
       "    <tr>\n",
       "      <th>1188316</th>\n",
       "      <td>u</td>\n",
       "      <td>5.940608e-11</td>\n",
       "      <td>1.045345e-10</td>\n",
       "      <td>23.183828</td>\n",
       "      <td>61323.156967</td>\n",
       "    </tr>\n",
       "    <tr>\n",
       "      <th>...</th>\n",
       "      <td>...</td>\n",
       "      <td>...</td>\n",
       "      <td>...</td>\n",
       "      <td>...</td>\n",
       "      <td>...</td>\n",
       "    </tr>\n",
       "    <tr>\n",
       "      <th>1207607</th>\n",
       "      <td>g</td>\n",
       "      <td>5.467539e-11</td>\n",
       "      <td>3.802986e-11</td>\n",
       "      <td>24.294039</td>\n",
       "      <td>61359.099744</td>\n",
       "    </tr>\n",
       "    <tr>\n",
       "      <th>1207627</th>\n",
       "      <td>i</td>\n",
       "      <td>2.433243e-10</td>\n",
       "      <td>7.036998e-11</td>\n",
       "      <td>23.631082</td>\n",
       "      <td>61359.109443</td>\n",
       "    </tr>\n",
       "    <tr>\n",
       "      <th>1207597</th>\n",
       "      <td>r</td>\n",
       "      <td>1.091496e-10</td>\n",
       "      <td>4.381969e-11</td>\n",
       "      <td>24.142556</td>\n",
       "      <td>61359.094211</td>\n",
       "    </tr>\n",
       "    <tr>\n",
       "      <th>1207673</th>\n",
       "      <td>y</td>\n",
       "      <td>2.758322e-10</td>\n",
       "      <td>4.157215e-10</td>\n",
       "      <td>21.701192</td>\n",
       "      <td>61359.131341</td>\n",
       "    </tr>\n",
       "    <tr>\n",
       "      <th>1207653</th>\n",
       "      <td>z</td>\n",
       "      <td>2.579300e-10</td>\n",
       "      <td>1.111760e-10</td>\n",
       "      <td>23.132812</td>\n",
       "      <td>61359.121642</td>\n",
       "    </tr>\n",
       "    <tr>\n",
       "      <th>1209764</th>\n",
       "      <td>g</td>\n",
       "      <td>5.091070e-11</td>\n",
       "      <td>5.526703e-11</td>\n",
       "      <td>23.889941</td>\n",
       "      <td>61362.095938</td>\n",
       "    </tr>\n",
       "    <tr>\n",
       "      <th>1209784</th>\n",
       "      <td>i</td>\n",
       "      <td>2.335864e-10</td>\n",
       "      <td>8.724414e-11</td>\n",
       "      <td>23.397069</td>\n",
       "      <td>61362.105638</td>\n",
       "    </tr>\n",
       "    <tr>\n",
       "      <th>1209754</th>\n",
       "      <td>r</td>\n",
       "      <td>1.085011e-10</td>\n",
       "      <td>5.433073e-11</td>\n",
       "      <td>23.909329</td>\n",
       "      <td>61362.090406</td>\n",
       "    </tr>\n",
       "    <tr>\n",
       "      <th>1209830</th>\n",
       "      <td>y</td>\n",
       "      <td>2.720699e-10</td>\n",
       "      <td>4.196333e-10</td>\n",
       "      <td>21.691049</td>\n",
       "      <td>61362.127536</td>\n",
       "    </tr>\n",
       "    <tr>\n",
       "      <th>1209810</th>\n",
       "      <td>z</td>\n",
       "      <td>2.371038e-10</td>\n",
       "      <td>1.382586e-10</td>\n",
       "      <td>22.896184</td>\n",
       "      <td>61362.117837</td>\n",
       "    </tr>\n",
       "    <tr>\n",
       "      <th>1211996</th>\n",
       "      <td>g</td>\n",
       "      <td>4.795816e-11</td>\n",
       "      <td>1.089442e-10</td>\n",
       "      <td>23.155900</td>\n",
       "      <td>61365.121272</td>\n",
       "    </tr>\n",
       "    <tr>\n",
       "      <th>1212016</th>\n",
       "      <td>i</td>\n",
       "      <td>2.310361e-10</td>\n",
       "      <td>1.476175e-10</td>\n",
       "      <td>22.826535</td>\n",
       "      <td>61365.130971</td>\n",
       "    </tr>\n",
       "    <tr>\n",
       "      <th>1211986</th>\n",
       "      <td>r</td>\n",
       "      <td>1.087582e-10</td>\n",
       "      <td>9.413560e-11</td>\n",
       "      <td>23.314038</td>\n",
       "      <td>61365.115739</td>\n",
       "    </tr>\n",
       "    <tr>\n",
       "      <th>1212062</th>\n",
       "      <td>y</td>\n",
       "      <td>2.709819e-10</td>\n",
       "      <td>5.041394e-10</td>\n",
       "      <td>21.492485</td>\n",
       "      <td>61365.152869</td>\n",
       "    </tr>\n",
       "    <tr>\n",
       "      <th>1212042</th>\n",
       "      <td>z</td>\n",
       "      <td>2.247980e-10</td>\n",
       "      <td>2.314621e-10</td>\n",
       "      <td>22.337966</td>\n",
       "      <td>61365.143170</td>\n",
       "    </tr>\n",
       "    <tr>\n",
       "      <th>1215576</th>\n",
       "      <td>g</td>\n",
       "      <td>4.240696e-11</td>\n",
       "      <td>1.022480e-10</td>\n",
       "      <td>23.224511</td>\n",
       "      <td>61370.105985</td>\n",
       "    </tr>\n",
       "    <tr>\n",
       "      <th>1215596</th>\n",
       "      <td>i</td>\n",
       "      <td>2.203267e-10</td>\n",
       "      <td>1.219540e-10</td>\n",
       "      <td>23.033487</td>\n",
       "      <td>61370.115684</td>\n",
       "    </tr>\n",
       "    <tr>\n",
       "      <th>1215566</th>\n",
       "      <td>r</td>\n",
       "      <td>1.037594e-10</td>\n",
       "      <td>7.723828e-11</td>\n",
       "      <td>23.528178</td>\n",
       "      <td>61370.100453</td>\n",
       "    </tr>\n",
       "    <tr>\n",
       "      <th>1215642</th>\n",
       "      <td>y</td>\n",
       "      <td>2.348022e-10</td>\n",
       "      <td>4.198267e-10</td>\n",
       "      <td>21.690462</td>\n",
       "      <td>61370.137582</td>\n",
       "    </tr>\n",
       "    <tr>\n",
       "      <th>1215622</th>\n",
       "      <td>z</td>\n",
       "      <td>2.006911e-10</td>\n",
       "      <td>1.921078e-10</td>\n",
       "      <td>22.539679</td>\n",
       "      <td>61370.127883</td>\n",
       "    </tr>\n",
       "    <tr>\n",
       "      <th>1217655</th>\n",
       "      <td>g</td>\n",
       "      <td>3.878179e-11</td>\n",
       "      <td>2.756655e-11</td>\n",
       "      <td>24.640163</td>\n",
       "      <td>61373.061291</td>\n",
       "    </tr>\n",
       "    <tr>\n",
       "      <th>1217675</th>\n",
       "      <td>i</td>\n",
       "      <td>2.114308e-10</td>\n",
       "      <td>6.239678e-11</td>\n",
       "      <td>23.761103</td>\n",
       "      <td>61373.070990</td>\n",
       "    </tr>\n",
       "    <tr>\n",
       "      <th>1217645</th>\n",
       "      <td>r</td>\n",
       "      <td>9.866654e-11</td>\n",
       "      <td>3.683882e-11</td>\n",
       "      <td>24.330367</td>\n",
       "      <td>61373.055758</td>\n",
       "    </tr>\n",
       "    <tr>\n",
       "      <th>1217721</th>\n",
       "      <td>y</td>\n",
       "      <td>1.999527e-10</td>\n",
       "      <td>3.724101e-10</td>\n",
       "      <td>21.819993</td>\n",
       "      <td>61373.092888</td>\n",
       "    </tr>\n",
       "    <tr>\n",
       "      <th>1217701</th>\n",
       "      <td>z</td>\n",
       "      <td>1.853124e-10</td>\n",
       "      <td>9.824305e-11</td>\n",
       "      <td>23.265596</td>\n",
       "      <td>61373.083189</td>\n",
       "    </tr>\n",
       "    <tr>\n",
       "      <th>1219755</th>\n",
       "      <td>g</td>\n",
       "      <td>3.519323e-11</td>\n",
       "      <td>2.978953e-11</td>\n",
       "      <td>24.556160</td>\n",
       "      <td>61376.063290</td>\n",
       "    </tr>\n",
       "    <tr>\n",
       "      <th>1219775</th>\n",
       "      <td>i</td>\n",
       "      <td>2.016091e-10</td>\n",
       "      <td>6.719705e-11</td>\n",
       "      <td>23.680095</td>\n",
       "      <td>61376.072989</td>\n",
       "    </tr>\n",
       "    <tr>\n",
       "      <th>1219745</th>\n",
       "      <td>r</td>\n",
       "      <td>9.271649e-11</td>\n",
       "      <td>3.956962e-11</td>\n",
       "      <td>24.252314</td>\n",
       "      <td>61376.057758</td>\n",
       "    </tr>\n",
       "    <tr>\n",
       "      <th>1219821</th>\n",
       "      <td>y</td>\n",
       "      <td>1.598730e-10</td>\n",
       "      <td>4.046161e-10</td>\n",
       "      <td>21.730193</td>\n",
       "      <td>61376.094888</td>\n",
       "    </tr>\n",
       "    <tr>\n",
       "      <th>1219801</th>\n",
       "      <td>z</td>\n",
       "      <td>1.699461e-10</td>\n",
       "      <td>1.060670e-10</td>\n",
       "      <td>23.182338</td>\n",
       "      <td>61376.085188</td>\n",
       "    </tr>\n",
       "  </tbody>\n",
       "</table>\n",
       "<p>89 rows × 5 columns</p>\n",
       "</div>"
      ],
      "text/plain": [
       "          band          flux       fluxerr         m5          time\n",
       "obsHistID                                                          \n",
       "1163962      g  1.679591e-12  7.196063e-11  23.603784  61285.264120\n",
       "1163982      i  1.380898e-12  1.049428e-10  23.193676  61285.273819\n",
       "1163952      r  7.850403e-13  6.779478e-11  23.667112  61285.258587\n",
       "1164028      y  1.534653e-12  3.665787e-10  21.836442  61285.295717\n",
       "1164008      z  1.267230e-12  1.630022e-10  22.716097  61285.286018\n",
       "1168321      u  1.115277e-10  7.266888e-11  23.575874  61298.266570\n",
       "1169136      u  1.170866e-10  9.147401e-11  23.329497  61299.229359\n",
       "1172807      g  1.093165e-09  5.447195e-11  23.937104  61305.284817\n",
       "1172827      i  1.401860e-09  7.780287e-11  23.548731  61305.294516\n",
       "1172797      r  1.563517e-09  5.155406e-11  24.024767  61305.279284\n",
       "1172873      y  1.124699e-09  3.547682e-10  21.875543  61305.316414\n",
       "1172853      z  1.494179e-09  1.191331e-10  23.075125  61305.306715\n",
       "1175685      g  1.273107e-09  1.120111e-10  23.134438  61308.378875\n",
       "1175695      i  1.671871e-09  3.759478e-10  21.814554  61308.384407\n",
       "1175665      r  1.834366e-09  8.526339e-11  23.445816  61308.369176\n",
       "1175715      z  1.641257e-09  3.729491e-10  21.823136  61308.394106\n",
       "1181517      g  9.749873e-10  5.841172e-11  23.854261  61315.200896\n",
       "1181537      i  1.778269e-09  8.914611e-11  23.400990  61315.210595\n",
       "1181507      r  1.771554e-09  5.753126e-11  23.900783  61315.195364\n",
       "1181583      y  1.053068e-09  4.138274e-10  21.708033  61315.232493\n",
       "1181563      z  1.552663e-09  1.399879e-10  22.895989  61315.222794\n",
       "1184084      g  7.726484e-10  2.636043e-11  24.789128  61318.196505\n",
       "1184104      i  1.660995e-09  5.824162e-11  23.898602  61318.206204\n",
       "1184074      r  1.551546e-09  3.645586e-11  24.466161  61318.190972\n",
       "1184150      y  8.886460e-10  3.254226e-10  21.968522  61318.228102\n",
       "1184130      z  1.452973e-09  8.902963e-11  23.404482  61318.218403\n",
       "1185746      u  2.243045e-11  9.104542e-11  23.329094  61320.168567\n",
       "1186645      u  2.563508e-11  1.153219e-10  23.077698  61321.172913\n",
       "1187505      u  4.066943e-11  1.086389e-10  23.141943  61322.163862\n",
       "1188316      u  5.940608e-11  1.045345e-10  23.183828  61323.156967\n",
       "...        ...           ...           ...        ...           ...\n",
       "1207607      g  5.467539e-11  3.802986e-11  24.294039  61359.099744\n",
       "1207627      i  2.433243e-10  7.036998e-11  23.631082  61359.109443\n",
       "1207597      r  1.091496e-10  4.381969e-11  24.142556  61359.094211\n",
       "1207673      y  2.758322e-10  4.157215e-10  21.701192  61359.131341\n",
       "1207653      z  2.579300e-10  1.111760e-10  23.132812  61359.121642\n",
       "1209764      g  5.091070e-11  5.526703e-11  23.889941  61362.095938\n",
       "1209784      i  2.335864e-10  8.724414e-11  23.397069  61362.105638\n",
       "1209754      r  1.085011e-10  5.433073e-11  23.909329  61362.090406\n",
       "1209830      y  2.720699e-10  4.196333e-10  21.691049  61362.127536\n",
       "1209810      z  2.371038e-10  1.382586e-10  22.896184  61362.117837\n",
       "1211996      g  4.795816e-11  1.089442e-10  23.155900  61365.121272\n",
       "1212016      i  2.310361e-10  1.476175e-10  22.826535  61365.130971\n",
       "1211986      r  1.087582e-10  9.413560e-11  23.314038  61365.115739\n",
       "1212062      y  2.709819e-10  5.041394e-10  21.492485  61365.152869\n",
       "1212042      z  2.247980e-10  2.314621e-10  22.337966  61365.143170\n",
       "1215576      g  4.240696e-11  1.022480e-10  23.224511  61370.105985\n",
       "1215596      i  2.203267e-10  1.219540e-10  23.033487  61370.115684\n",
       "1215566      r  1.037594e-10  7.723828e-11  23.528178  61370.100453\n",
       "1215642      y  2.348022e-10  4.198267e-10  21.690462  61370.137582\n",
       "1215622      z  2.006911e-10  1.921078e-10  22.539679  61370.127883\n",
       "1217655      g  3.878179e-11  2.756655e-11  24.640163  61373.061291\n",
       "1217675      i  2.114308e-10  6.239678e-11  23.761103  61373.070990\n",
       "1217645      r  9.866654e-11  3.683882e-11  24.330367  61373.055758\n",
       "1217721      y  1.999527e-10  3.724101e-10  21.819993  61373.092888\n",
       "1217701      z  1.853124e-10  9.824305e-11  23.265596  61373.083189\n",
       "1219755      g  3.519323e-11  2.978953e-11  24.556160  61376.063290\n",
       "1219775      i  2.016091e-10  6.719705e-11  23.680095  61376.072989\n",
       "1219745      r  9.271649e-11  3.956962e-11  24.252314  61376.057758\n",
       "1219821      y  1.598730e-10  4.046161e-10  21.730193  61376.094888\n",
       "1219801      z  1.699461e-10  1.060670e-10  23.182338  61376.085188\n",
       "\n",
       "[89 rows x 5 columns]"
      ]
     },
     "execution_count": 21,
     "metadata": {},
     "output_type": "execute_result"
    }
   ],
   "source": [
    "reflc.lightCurve(idValue=6001163623700, observations=df, bandpassDict=lsstBP[0])"
   ]
  }
 ],
 "metadata": {
  "kernelspec": {
   "display_name": "Python 2",
   "language": "python",
   "name": "python2"
  }
 },
 "nbformat": 4,
 "nbformat_minor": 0
}
