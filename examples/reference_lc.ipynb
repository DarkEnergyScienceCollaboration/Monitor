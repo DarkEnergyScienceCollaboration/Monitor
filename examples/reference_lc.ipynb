{
 "cells": [
  {
   "cell_type": "markdown",
   "metadata": {},
   "source": [
    "# Reference Light Curves of SN"
   ]
  },
  {
   "cell_type": "markdown",
   "metadata": {},
   "source": [
    "#### The basic plan\n",
    "\n",
    "The set of quantities related to supernovae used in Twinkles are in a table called TwinkSN\n",
    "on a computer at UW. This code in the `Monitor` package accesses this data to have a complete\n",
    "characterization of the SN truth parameters.\n",
    "\n",
    "It then creates an instance of `lsst.sims.catUtils.supernovae.SNObject` using these values.\n",
    "Since SNObject has methods that estimate flux, and estimated flux uncertainty given \n",
    "parameters that characterize the observation, we can use this to find the light curves of\n",
    "the supernovae. The light curves have two main quantities, the measured flux and uncertainty\n",
    "on the measured flux. These quantities depend on the properties of the astrophysical objects,\n",
    "and the properties of the observation. By properties of observation, we mean site/Hardware\n",
    "properties and the properties of the sky at the time of the observation. The most important of\n",
    "these are the bandpasses (transmissions) and fivesigma depth (obtained from OpSim). \n",
    "\n",
    "Thus,  `monitor.RefLightCuves` must be passed these quantities in order to obtain the light curve.\n",
    "However, for analyzing the Twinkles run, where we have a clearer idea of both the bandpasses (LSST)\n",
    "and the properties of the observation (from a selection of OpSim visits), we have a simple method to\n",
    "set this up:\n",
    "`monitor.RefLightCurve.fromTwinklesData`."
   ]
  },
  {
   "cell_type": "markdown",
   "metadata": {},
   "source": [
    "#### Imports and Setup"
   ]
  },
  {
   "cell_type": "code",
   "execution_count": 1,
   "metadata": {
    "collapsed": true
   },
   "outputs": [],
   "source": [
    "from __future__ import absolute_import, division, print_function"
   ]
  },
  {
   "cell_type": "code",
   "execution_count": 2,
   "metadata": {
    "collapsed": true
   },
   "outputs": [],
   "source": [
    "import os"
   ]
  },
  {
   "cell_type": "code",
   "execution_count": 3,
   "metadata": {
    "collapsed": true
   },
   "outputs": [],
   "source": [
    "import numpy as np\n",
    "import pandas as pd"
   ]
  },
  {
   "cell_type": "code",
   "execution_count": 4,
   "metadata": {
    "collapsed": false
   },
   "outputs": [
    {
     "name": "stderr",
     "output_type": "stream",
     "text": [
      "/usr/local/manual/anaconda/lib/python2.7/site-packages/matplotlib/__init__.py:872: UserWarning: axes.color_cycle is deprecated and replaced with axes.prop_cycle; please use the latter.\n",
      "  warnings.warn(self.msg_depr % (key, alt_key))\n"
     ]
    }
   ],
   "source": [
    "%matplotlib inline\n",
    "import matplotlib.pyplot as plt\n",
    "import seaborn as sns\n",
    "sns.set()"
   ]
  },
  {
   "cell_type": "code",
   "execution_count": 5,
   "metadata": {
    "collapsed": false
   },
   "outputs": [
    {
     "name": "stderr",
     "output_type": "stream",
     "text": [
      "/Users/rbiswas/src/LSST/sims_catalogs_generation/python/lsst/sims/catalogs/generation/db/dbConnection.py:438: UserWarning: Duplicate object type id 25 specified: \n",
      "Output object ids may not be unique.\n",
      "This may not be a problem if you do not want globally unique id values\n",
      "  'want globally unique id values')\n",
      "/Users/rbiswas/src/LSST/sims_catalogs_generation/python/lsst/sims/catalogs/generation/db/dbConnection.py:438: UserWarning: Duplicate object type id 40 specified: \n",
      "Output object ids may not be unique.\n",
      "This may not be a problem if you do not want globally unique id values\n",
      "  'want globally unique id values')\n"
     ]
    }
   ],
   "source": [
    "# Import from monitor\n",
    "from desc.monitor import RefLightCurves\n",
    "import desc.monitor as monitor"
   ]
  },
  {
   "cell_type": "markdown",
   "metadata": {},
   "source": [
    "## Observations"
   ]
  },
  {
   "cell_type": "markdown",
   "metadata": {
    "collapsed": true
   },
   "source": [
    "The quantities needed for the light curves are time (MJD), and fiveSigmaDepth. While this can come\n",
    "from various formats, right now, there is only one that has been implemented: a  dataframe. The data directory\n",
    "of the package `desc.Monitor` contains a csv file which has the necessary pointings"
   ]
  },
  {
   "cell_type": "code",
   "execution_count": 6,
   "metadata": {
    "collapsed": false
   },
   "outputs": [],
   "source": [
    "data_dir = os.path.join(os.environ['MONITOR_DIR'], 'data')\n",
    "opsimCsv = os.path.join(data_dir, 'SelectedKrakenVisits.csv')\n",
    "opsimdf = pd.read_csv(opsimCsv, index_col='obsHistID')\n",
    "df = opsimdf[['expMJD', 'filter', 'fiveSigmaDepth']]"
   ]
  },
  {
   "cell_type": "markdown",
   "metadata": {},
   "source": [
    "### Obtaining the parameters from the database\n",
    "\n",
    "Setting up a connection to the CatSim DataBase which has parameters of the SN model."
   ]
  },
  {
   "cell_type": "code",
   "execution_count": 7,
   "metadata": {
    "collapsed": false
   },
   "outputs": [],
   "source": [
    "import pymssql\n",
    "from lsst.utils import getPackageDir\n",
    "import lsst.sims.catUtils.baseCatalogModels as bcm\n",
    "from lsst.daf.persistence import DbAuth"
   ]
  },
  {
   "cell_type": "code",
   "execution_count": 8,
   "metadata": {
    "collapsed": true
   },
   "outputs": [],
   "source": [
    "config = bcm.BaseCatalogConfig()\n",
    "config.load(os.path.join(getPackageDir(\"sims_catUtils\"), \"config\", \"db.py\"))"
   ]
  },
  {
   "cell_type": "code",
   "execution_count": 9,
   "metadata": {
    "collapsed": false
   },
   "outputs": [],
   "source": [
    "username = DbAuth.username(config.host, config.port)    \n",
    "password = DbAuth.password(config.host, config.port)\n",
    "hostname = config.host\n",
    "DBConnection = pymssql.connect(user=username,\n",
    "                               password=password,\n",
    "                               host=hostname,\n",
    "                               database=config.database,\n",
    "                               port=config.port)\n",
    "db = DBConnection.cursor()"
   ]
  },
  {
   "cell_type": "markdown",
   "metadata": {},
   "source": [
    "#### The RefLightCurves Class\n",
    "\n",
    "This is instantiated in the following way:"
   ]
  },
  {
   "cell_type": "code",
   "execution_count": 10,
   "metadata": {
    "collapsed": false
   },
   "outputs": [],
   "source": [
    "# The ids are obtained from Instance Catalogs\n",
    "reflc = RefLightCurves(idSequence=(6144007055260714, 6144158471480362),\n",
    "                       tableName='TwinkSN',\n",
    "                       dbConnection=DBConnection,\n",
    "                       dbCursor=db)"
   ]
  },
  {
   "cell_type": "markdown",
   "metadata": {},
   "source": [
    "### Find the number of objects in the table"
   ]
  },
  {
   "cell_type": "code",
   "execution_count": 11,
   "metadata": {
    "collapsed": false
   },
   "outputs": [
    {
     "data": {
      "text/plain": [
       "<pymssql.Connection at 0x124902290>"
      ]
     },
     "execution_count": 11,
     "metadata": {},
     "output_type": "execute_result"
    }
   ],
   "source": [
    "reflc.dbConnection"
   ]
  },
  {
   "cell_type": "code",
   "execution_count": 12,
   "metadata": {
    "collapsed": false
   },
   "outputs": [
    {
     "name": "stdout",
     "output_type": "stream",
     "text": [
      "776620\n"
     ]
    }
   ],
   "source": [
    "print(reflc.get_numObjects())"
   ]
  },
  {
   "cell_type": "code",
   "execution_count": 13,
   "metadata": {
    "collapsed": false
   },
   "outputs": [
    {
     "data": {
      "text/plain": [
       "776620"
      ]
     },
     "execution_count": 13,
     "metadata": {},
     "output_type": "execute_result"
    }
   ],
   "source": [
    "reflc.get_numObjects()"
   ]
  },
  {
   "cell_type": "markdown",
   "metadata": {},
   "source": [
    "### Get all ids on the table"
   ]
  },
  {
   "cell_type": "markdown",
   "metadata": {},
   "source": [
    "What are the IDs in the table (unique IDs)?"
   ]
  },
  {
   "cell_type": "code",
   "execution_count": 14,
   "metadata": {
    "collapsed": false
   },
   "outputs": [
    {
     "name": "stdout",
     "output_type": "stream",
     "text": [
      "[6000000005002 6000000005001 6000000005000 ..., 6001742779700 6001742827001\n",
      " 6001742827000]\n"
     ]
    }
   ],
   "source": [
    "ids = reflc.allIdinTable(chunksize=None)\n",
    "print(ids.astype(int).values.flatten())"
   ]
  },
  {
   "cell_type": "markdown",
   "metadata": {},
   "source": [
    "The astrophysical object properties can be obtained by using the following function in the form of a `pd.DataFrame`"
   ]
  },
  {
   "cell_type": "markdown",
   "metadata": {},
   "source": [
    "Or if the table is too large, and you only want to get a few of the IDs"
   ]
  },
  {
   "cell_type": "code",
   "execution_count": 15,
   "metadata": {
    "collapsed": false
   },
   "outputs": [
    {
     "name": "stdout",
     "output_type": "stream",
     "text": [
      "[6000000005002 6000000005001 6000000005000 6000000013401 6000000013400\n",
      " 6000000013403 6000000013402 6000000013700 6000000014902 6000000014903]\n"
     ]
    }
   ],
   "source": [
    "ids = reflc.allIdinTable(chunksize=10)\n",
    "print(ids.next().astype(int).values.flatten())"
   ]
  },
  {
   "cell_type": "markdown",
   "metadata": {},
   "source": [
    "Get the parameters for an object"
   ]
  },
  {
   "cell_type": "code",
   "execution_count": 16,
   "metadata": {
    "collapsed": false
   },
   "outputs": [
    {
     "data": {
      "text/html": [
       "<div>\n",
       "<table border=\"1\" class=\"dataframe\">\n",
       "  <thead>\n",
       "    <tr style=\"text-align: right;\">\n",
       "      <th></th>\n",
       "      <th>redshift</th>\n",
       "      <th>snra</th>\n",
       "      <th>sndec</th>\n",
       "      <th>t0</th>\n",
       "      <th>x0</th>\n",
       "      <th>x1</th>\n",
       "      <th>c</th>\n",
       "    </tr>\n",
       "    <tr>\n",
       "      <th>snid</th>\n",
       "      <th></th>\n",
       "      <th></th>\n",
       "      <th></th>\n",
       "      <th></th>\n",
       "      <th></th>\n",
       "      <th></th>\n",
       "      <th></th>\n",
       "    </tr>\n",
       "  </thead>\n",
       "  <tbody>\n",
       "    <tr>\n",
       "      <th>6000006889903</th>\n",
       "      <td>0.0792</td>\n",
       "      <td>53.005626</td>\n",
       "      <td>-27.389538</td>\n",
       "      <td>3627.69276</td>\n",
       "      <td>0.0008</td>\n",
       "      <td>-0.286958</td>\n",
       "      <td>-0.086294</td>\n",
       "    </tr>\n",
       "  </tbody>\n",
       "</table>\n",
       "</div>"
      ],
      "text/plain": [
       "               redshift       snra      sndec          t0      x0        x1  \\\n",
       "snid                                                                          \n",
       "6000006889903    0.0792  53.005626 -27.389538  3627.69276  0.0008 -0.286958   \n",
       "\n",
       "                      c  \n",
       "snid                     \n",
       "6000006889903 -0.086294  "
      ]
     },
     "execution_count": 16,
     "metadata": {},
     "output_type": "execute_result"
    }
   ],
   "source": [
    "reflc.get_params(6144007055260714)"
   ]
  },
  {
   "cell_type": "code",
   "execution_count": 17,
   "metadata": {
    "collapsed": false
   },
   "outputs": [
    {
     "data": {
      "text/html": [
       "<div>\n",
       "<table border=\"1\" class=\"dataframe\">\n",
       "  <thead>\n",
       "    <tr style=\"text-align: right;\">\n",
       "      <th></th>\n",
       "      <th>redshift</th>\n",
       "      <th>snra</th>\n",
       "      <th>sndec</th>\n",
       "      <th>t0</th>\n",
       "      <th>x0</th>\n",
       "      <th>x1</th>\n",
       "      <th>c</th>\n",
       "    </tr>\n",
       "    <tr>\n",
       "      <th>snid</th>\n",
       "      <th></th>\n",
       "      <th></th>\n",
       "      <th></th>\n",
       "      <th></th>\n",
       "      <th></th>\n",
       "      <th></th>\n",
       "      <th></th>\n",
       "    </tr>\n",
       "  </thead>\n",
       "  <tbody>\n",
       "    <tr>\n",
       "      <th>6000006889903</th>\n",
       "      <td>0.0792</td>\n",
       "      <td>53.005626</td>\n",
       "      <td>-27.389538</td>\n",
       "      <td>3627.692760</td>\n",
       "      <td>0.000800</td>\n",
       "      <td>-0.286958</td>\n",
       "      <td>-0.086294</td>\n",
       "    </tr>\n",
       "    <tr>\n",
       "      <th>6000154757305</th>\n",
       "      <td>0.0882</td>\n",
       "      <td>53.051542</td>\n",
       "      <td>-27.414282</td>\n",
       "      <td>3565.558086</td>\n",
       "      <td>0.001018</td>\n",
       "      <td>0.607759</td>\n",
       "      <td>-0.261934</td>\n",
       "    </tr>\n",
       "  </tbody>\n",
       "</table>\n",
       "</div>"
      ],
      "text/plain": [
       "               redshift       snra      sndec           t0        x0  \\\n",
       "snid                                                                   \n",
       "6000006889903    0.0792  53.005626 -27.389538  3627.692760  0.000800   \n",
       "6000154757305    0.0882  53.051542 -27.414282  3565.558086  0.001018   \n",
       "\n",
       "                     x1         c  \n",
       "snid                               \n",
       "6000006889903 -0.286958 -0.086294  \n",
       "6000154757305  0.607759 -0.261934  "
      ]
     },
     "execution_count": 17,
     "metadata": {},
     "output_type": "execute_result"
    }
   ],
   "source": [
    "allParamsInIdSequence = reflc.get_params()\n",
    "allParamsInIdSequence"
   ]
  },
  {
   "cell_type": "code",
   "execution_count": 18,
   "metadata": {
    "collapsed": false
   },
   "outputs": [],
   "source": [
    "reflcAll = RefLightCurves(tableName='TwinkSN',\n",
    "                       dbConnection=DBConnection,\n",
    "                       dbCursor=db)"
   ]
  },
  {
   "cell_type": "code",
   "execution_count": 19,
   "metadata": {
    "collapsed": false
   },
   "outputs": [],
   "source": [
    "# Slow because all rows\n",
    "allParams = reflcAll.get_params()"
   ]
  },
  {
   "cell_type": "code",
   "execution_count": 20,
   "metadata": {
    "collapsed": false
   },
   "outputs": [
    {
     "data": {
      "text/html": [
       "<div>\n",
       "<table border=\"1\" class=\"dataframe\">\n",
       "  <thead>\n",
       "    <tr style=\"text-align: right;\">\n",
       "      <th></th>\n",
       "      <th>redshift</th>\n",
       "      <th>snra</th>\n",
       "      <th>sndec</th>\n",
       "      <th>t0</th>\n",
       "      <th>x0</th>\n",
       "      <th>x1</th>\n",
       "      <th>c</th>\n",
       "    </tr>\n",
       "    <tr>\n",
       "      <th>snid</th>\n",
       "      <th></th>\n",
       "      <th></th>\n",
       "      <th></th>\n",
       "      <th></th>\n",
       "      <th></th>\n",
       "      <th></th>\n",
       "      <th></th>\n",
       "    </tr>\n",
       "  </thead>\n",
       "  <tbody>\n",
       "    <tr>\n",
       "      <th>6001163623700</th>\n",
       "      <td>0.3401</td>\n",
       "      <td>52.803079</td>\n",
       "      <td>-27.843361</td>\n",
       "      <td>1731.094090</td>\n",
       "      <td>0.000025</td>\n",
       "      <td>-1.981708</td>\n",
       "      <td>-0.043500</td>\n",
       "    </tr>\n",
       "    <tr>\n",
       "      <th>6000324908000</th>\n",
       "      <td>0.3249</td>\n",
       "      <td>52.797229</td>\n",
       "      <td>-27.843795</td>\n",
       "      <td>1664.942389</td>\n",
       "      <td>0.000037</td>\n",
       "      <td>0.697824</td>\n",
       "      <td>-0.140121</td>\n",
       "    </tr>\n",
       "    <tr>\n",
       "      <th>6000324908001</th>\n",
       "      <td>0.3249</td>\n",
       "      <td>52.797248</td>\n",
       "      <td>-27.843597</td>\n",
       "      <td>1608.347547</td>\n",
       "      <td>0.000025</td>\n",
       "      <td>-0.238670</td>\n",
       "      <td>0.053811</td>\n",
       "    </tr>\n",
       "    <tr>\n",
       "      <th>6000324908002</th>\n",
       "      <td>0.3249</td>\n",
       "      <td>52.797264</td>\n",
       "      <td>-27.843773</td>\n",
       "      <td>350.999770</td>\n",
       "      <td>0.000025</td>\n",
       "      <td>0.220203</td>\n",
       "      <td>0.061134</td>\n",
       "    </tr>\n",
       "    <tr>\n",
       "      <th>6000350930401</th>\n",
       "      <td>0.6747</td>\n",
       "      <td>52.798069</td>\n",
       "      <td>-27.846654</td>\n",
       "      <td>2128.934351</td>\n",
       "      <td>0.000005</td>\n",
       "      <td>0.052383</td>\n",
       "      <td>0.120673</td>\n",
       "    </tr>\n",
       "  </tbody>\n",
       "</table>\n",
       "</div>"
      ],
      "text/plain": [
       "               redshift       snra      sndec           t0        x0  \\\n",
       "snid                                                                   \n",
       "6001163623700    0.3401  52.803079 -27.843361  1731.094090  0.000025   \n",
       "6000324908000    0.3249  52.797229 -27.843795  1664.942389  0.000037   \n",
       "6000324908001    0.3249  52.797248 -27.843597  1608.347547  0.000025   \n",
       "6000324908002    0.3249  52.797264 -27.843773   350.999770  0.000025   \n",
       "6000350930401    0.6747  52.798069 -27.846654  2128.934351  0.000005   \n",
       "\n",
       "                     x1         c  \n",
       "snid                               \n",
       "6001163623700 -1.981708 -0.043500  \n",
       "6000324908000  0.697824 -0.140121  \n",
       "6000324908001 -0.238670  0.053811  \n",
       "6000324908002  0.220203  0.061134  \n",
       "6000350930401  0.052383  0.120673  "
      ]
     },
     "execution_count": 20,
     "metadata": {},
     "output_type": "execute_result"
    }
   ],
   "source": [
    "allParams.head()"
   ]
  },
  {
   "cell_type": "markdown",
   "metadata": {},
   "source": [
    "The instance of the class representing the astrophysical object itself can be obtained by the following method for SN"
   ]
  },
  {
   "cell_type": "code",
   "execution_count": 21,
   "metadata": {
    "collapsed": false
   },
   "outputs": [],
   "source": [
    "sn = reflc.astro_object(idValue=6144007055260714)"
   ]
  },
  {
   "cell_type": "markdown",
   "metadata": {},
   "source": [
    "Following the usual methods in `sims.catUtils.supernovae.SNObject` the properties of this SN can be seen using"
   ]
  },
  {
   "cell_type": "markdown",
   "metadata": {},
   "source": [
    "## Calculating Light Curves"
   ]
  },
  {
   "cell_type": "code",
   "execution_count": 22,
   "metadata": {
    "collapsed": true
   },
   "outputs": [],
   "source": [
    "from lsst.sims.photUtils import BandpassDict"
   ]
  },
  {
   "cell_type": "code",
   "execution_count": 23,
   "metadata": {
    "collapsed": true
   },
   "outputs": [],
   "source": [
    "# Get the `bandpassDict` instance from files using catsim methods\n",
    "lsstBP = BandpassDict.loadBandpassesFromFiles()\n",
    "# This is a tuple, the first component gives the total bandpass, while the second gives the hardware bandpass"
   ]
  },
  {
   "cell_type": "code",
   "execution_count": 24,
   "metadata": {
    "collapsed": false
   },
   "outputs": [
    {
     "data": {
      "text/html": [
       "<div>\n",
       "<table border=\"1\" class=\"dataframe\">\n",
       "  <thead>\n",
       "    <tr style=\"text-align: right;\">\n",
       "      <th></th>\n",
       "      <th>band</th>\n",
       "      <th>flux</th>\n",
       "      <th>fluxerr</th>\n",
       "      <th>m5</th>\n",
       "      <th>time</th>\n",
       "    </tr>\n",
       "    <tr>\n",
       "      <th>obsHistID</th>\n",
       "      <th></th>\n",
       "      <th></th>\n",
       "      <th></th>\n",
       "      <th></th>\n",
       "      <th></th>\n",
       "    </tr>\n",
       "  </thead>\n",
       "  <tbody>\n",
       "    <tr>\n",
       "      <th>2420278</th>\n",
       "      <td>u</td>\n",
       "      <td>7.199320e-12</td>\n",
       "      <td>8.797582e-11</td>\n",
       "      <td>23.364561</td>\n",
       "      <td>63187.066784</td>\n",
       "    </tr>\n",
       "    <tr>\n",
       "      <th>2421021</th>\n",
       "      <td>u</td>\n",
       "      <td>3.314851e-11</td>\n",
       "      <td>1.410967e-10</td>\n",
       "      <td>22.862402</td>\n",
       "      <td>63188.080403</td>\n",
       "    </tr>\n",
       "    <tr>\n",
       "      <th>2421812</th>\n",
       "      <td>u</td>\n",
       "      <td>7.690017e-11</td>\n",
       "      <td>1.404422e-10</td>\n",
       "      <td>22.868438</td>\n",
       "      <td>63189.117991</td>\n",
       "    </tr>\n",
       "    <tr>\n",
       "      <th>2423149</th>\n",
       "      <td>g</td>\n",
       "      <td>1.272596e-09</td>\n",
       "      <td>5.665873e-11</td>\n",
       "      <td>23.897282</td>\n",
       "      <td>63191.072483</td>\n",
       "    </tr>\n",
       "    <tr>\n",
       "      <th>2423169</th>\n",
       "      <td>i</td>\n",
       "      <td>2.148215e-09</td>\n",
       "      <td>9.308826e-11</td>\n",
       "      <td>23.357840</td>\n",
       "      <td>63191.082182</td>\n",
       "    </tr>\n",
       "    <tr>\n",
       "      <th>2423139</th>\n",
       "      <td>r</td>\n",
       "      <td>2.096949e-09</td>\n",
       "      <td>5.994450e-11</td>\n",
       "      <td>23.861980</td>\n",
       "      <td>63191.066950</td>\n",
       "    </tr>\n",
       "    <tr>\n",
       "      <th>2423215</th>\n",
       "      <td>y</td>\n",
       "      <td>9.526965e-10</td>\n",
       "      <td>4.722771e-10</td>\n",
       "      <td>21.564430</td>\n",
       "      <td>63191.104080</td>\n",
       "    </tr>\n",
       "    <tr>\n",
       "      <th>2423195</th>\n",
       "      <td>z</td>\n",
       "      <td>5.356918e-10</td>\n",
       "      <td>1.427617e-10</td>\n",
       "      <td>22.864327</td>\n",
       "      <td>63191.094381</td>\n",
       "    </tr>\n",
       "    <tr>\n",
       "      <th>2425238</th>\n",
       "      <td>g</td>\n",
       "      <td>9.330813e-09</td>\n",
       "      <td>9.346192e-11</td>\n",
       "      <td>23.423457</td>\n",
       "      <td>63194.058901</td>\n",
       "    </tr>\n",
       "    <tr>\n",
       "      <th>2425258</th>\n",
       "      <td>i</td>\n",
       "      <td>8.222144e-09</td>\n",
       "      <td>1.295306e-10</td>\n",
       "      <td>23.037736</td>\n",
       "      <td>63194.068600</td>\n",
       "    </tr>\n",
       "    <tr>\n",
       "      <th>2425228</th>\n",
       "      <td>r</td>\n",
       "      <td>8.633074e-09</td>\n",
       "      <td>8.818023e-11</td>\n",
       "      <td>23.509058</td>\n",
       "      <td>63194.053369</td>\n",
       "    </tr>\n",
       "    <tr>\n",
       "      <th>2425304</th>\n",
       "      <td>y</td>\n",
       "      <td>4.778328e-09</td>\n",
       "      <td>4.320610e-10</td>\n",
       "      <td>21.669652</td>\n",
       "      <td>63194.090498</td>\n",
       "    </tr>\n",
       "    <tr>\n",
       "      <th>2425284</th>\n",
       "      <td>z</td>\n",
       "      <td>4.359758e-09</td>\n",
       "      <td>1.922341e-10</td>\n",
       "      <td>22.561392</td>\n",
       "      <td>63194.080799</td>\n",
       "    </tr>\n",
       "    <tr>\n",
       "      <th>2431066</th>\n",
       "      <td>g</td>\n",
       "      <td>4.441919e-08</td>\n",
       "      <td>8.774692e-11</td>\n",
       "      <td>24.820795</td>\n",
       "      <td>63203.063235</td>\n",
       "    </tr>\n",
       "    <tr>\n",
       "      <th>2431086</th>\n",
       "      <td>i</td>\n",
       "      <td>2.902097e-08</td>\n",
       "      <td>1.074972e-10</td>\n",
       "      <td>23.709872</td>\n",
       "      <td>63203.072935</td>\n",
       "    </tr>\n",
       "    <tr>\n",
       "      <th>2431056</th>\n",
       "      <td>r</td>\n",
       "      <td>3.702634e-08</td>\n",
       "      <td>8.877849e-11</td>\n",
       "      <td>24.510950</td>\n",
       "      <td>63203.057703</td>\n",
       "    </tr>\n",
       "    <tr>\n",
       "      <th>2431132</th>\n",
       "      <td>y</td>\n",
       "      <td>1.974664e-08</td>\n",
       "      <td>3.496905e-10</td>\n",
       "      <td>21.959283</td>\n",
       "      <td>63203.094833</td>\n",
       "    </tr>\n",
       "    <tr>\n",
       "      <th>2431112</th>\n",
       "      <td>z</td>\n",
       "      <td>2.082493e-08</td>\n",
       "      <td>1.252500e-10</td>\n",
       "      <td>23.350828</td>\n",
       "      <td>63203.085134</td>\n",
       "    </tr>\n",
       "    <tr>\n",
       "      <th>2433151</th>\n",
       "      <td>g</td>\n",
       "      <td>4.932146e-08</td>\n",
       "      <td>9.240479e-11</td>\n",
       "      <td>24.774518</td>\n",
       "      <td>63206.067328</td>\n",
       "    </tr>\n",
       "    <tr>\n",
       "      <th>2433171</th>\n",
       "      <td>i</td>\n",
       "      <td>2.934033e-08</td>\n",
       "      <td>1.025594e-10</td>\n",
       "      <td>23.875005</td>\n",
       "      <td>63206.077027</td>\n",
       "    </tr>\n",
       "    <tr>\n",
       "      <th>2433141</th>\n",
       "      <td>r</td>\n",
       "      <td>4.211392e-08</td>\n",
       "      <td>9.445696e-11</td>\n",
       "      <td>24.463415</td>\n",
       "      <td>63206.061796</td>\n",
       "    </tr>\n",
       "    <tr>\n",
       "      <th>2433217</th>\n",
       "      <td>y</td>\n",
       "      <td>2.105396e-08</td>\n",
       "      <td>3.690927e-10</td>\n",
       "      <td>21.897697</td>\n",
       "      <td>63206.098925</td>\n",
       "    </tr>\n",
       "    <tr>\n",
       "      <th>2433197</th>\n",
       "      <td>z</td>\n",
       "      <td>2.150988e-08</td>\n",
       "      <td>1.253895e-10</td>\n",
       "      <td>23.364939</td>\n",
       "      <td>63206.089226</td>\n",
       "    </tr>\n",
       "    <tr>\n",
       "      <th>2435233</th>\n",
       "      <td>g</td>\n",
       "      <td>4.853480e-08</td>\n",
       "      <td>9.451542e-11</td>\n",
       "      <td>24.434006</td>\n",
       "      <td>63209.067435</td>\n",
       "    </tr>\n",
       "    <tr>\n",
       "      <th>2435253</th>\n",
       "      <td>i</td>\n",
       "      <td>2.963103e-08</td>\n",
       "      <td>1.144652e-10</td>\n",
       "      <td>23.556593</td>\n",
       "      <td>63209.077134</td>\n",
       "    </tr>\n",
       "    <tr>\n",
       "      <th>2435223</th>\n",
       "      <td>r</td>\n",
       "      <td>4.356894e-08</td>\n",
       "      <td>1.003223e-10</td>\n",
       "      <td>24.138431</td>\n",
       "      <td>63209.061903</td>\n",
       "    </tr>\n",
       "    <tr>\n",
       "      <th>2435299</th>\n",
       "      <td>y</td>\n",
       "      <td>2.170041e-08</td>\n",
       "      <td>4.799838e-10</td>\n",
       "      <td>21.585981</td>\n",
       "      <td>63209.099032</td>\n",
       "    </tr>\n",
       "    <tr>\n",
       "      <th>2435279</th>\n",
       "      <td>z</td>\n",
       "      <td>1.832180e-08</td>\n",
       "      <td>1.444717e-10</td>\n",
       "      <td>23.051477</td>\n",
       "      <td>63209.089333</td>\n",
       "    </tr>\n",
       "    <tr>\n",
       "      <th>2435922</th>\n",
       "      <td>u</td>\n",
       "      <td>2.136135e-08</td>\n",
       "      <td>1.654013e-10</td>\n",
       "      <td>23.328118</td>\n",
       "      <td>63211.062926</td>\n",
       "    </tr>\n",
       "    <tr>\n",
       "      <th>2436607</th>\n",
       "      <td>u</td>\n",
       "      <td>1.944430e-08</td>\n",
       "      <td>1.504605e-10</td>\n",
       "      <td>23.566237</td>\n",
       "      <td>63212.063334</td>\n",
       "    </tr>\n",
       "    <tr>\n",
       "      <th>2437301</th>\n",
       "      <td>u</td>\n",
       "      <td>1.765450e-08</td>\n",
       "      <td>1.575222e-10</td>\n",
       "      <td>23.281295</td>\n",
       "      <td>63213.063974</td>\n",
       "    </tr>\n",
       "    <tr>\n",
       "      <th>2438631</th>\n",
       "      <td>u</td>\n",
       "      <td>1.301931e-08</td>\n",
       "      <td>1.393553e-10</td>\n",
       "      <td>23.360341</td>\n",
       "      <td>63216.065405</td>\n",
       "    </tr>\n",
       "    <tr>\n",
       "      <th>2439331</th>\n",
       "      <td>u</td>\n",
       "      <td>1.168365e-08</td>\n",
       "      <td>1.589653e-10</td>\n",
       "      <td>23.018465</td>\n",
       "      <td>63217.065976</td>\n",
       "    </tr>\n",
       "    <tr>\n",
       "      <th>2440036</th>\n",
       "      <td>u</td>\n",
       "      <td>1.043666e-08</td>\n",
       "      <td>1.330928e-10</td>\n",
       "      <td>23.321099</td>\n",
       "      <td>63218.075410</td>\n",
       "    </tr>\n",
       "    <tr>\n",
       "      <th>2440831</th>\n",
       "      <td>g</td>\n",
       "      <td>2.727412e-08</td>\n",
       "      <td>7.127925e-11</td>\n",
       "      <td>24.692735</td>\n",
       "      <td>63219.127822</td>\n",
       "    </tr>\n",
       "    <tr>\n",
       "      <th>2440841</th>\n",
       "      <td>i</td>\n",
       "      <td>1.816667e-08</td>\n",
       "      <td>8.489062e-11</td>\n",
       "      <td>23.966934</td>\n",
       "      <td>63219.133354</td>\n",
       "    </tr>\n",
       "    <tr>\n",
       "      <th>2440811</th>\n",
       "      <td>r</td>\n",
       "      <td>3.098705e-08</td>\n",
       "      <td>8.168054e-11</td>\n",
       "      <td>24.557801</td>\n",
       "      <td>63219.118123</td>\n",
       "    </tr>\n",
       "    <tr>\n",
       "      <th>2440887</th>\n",
       "      <td>y</td>\n",
       "      <td>1.875830e-08</td>\n",
       "      <td>3.646762e-10</td>\n",
       "      <td>21.904341</td>\n",
       "      <td>63219.155253</td>\n",
       "    </tr>\n",
       "    <tr>\n",
       "      <th>2440861</th>\n",
       "      <td>z</td>\n",
       "      <td>1.218071e-08</td>\n",
       "      <td>1.071438e-10</td>\n",
       "      <td>23.427766</td>\n",
       "      <td>63219.143054</td>\n",
       "    </tr>\n",
       "    <tr>\n",
       "      <th>2442752</th>\n",
       "      <td>g</td>\n",
       "      <td>2.091153e-08</td>\n",
       "      <td>7.778658e-11</td>\n",
       "      <td>23.959153</td>\n",
       "      <td>63222.073362</td>\n",
       "    </tr>\n",
       "    <tr>\n",
       "      <th>2442772</th>\n",
       "      <td>i</td>\n",
       "      <td>1.667110e-08</td>\n",
       "      <td>1.055040e-10</td>\n",
       "      <td>23.444245</td>\n",
       "      <td>63222.083061</td>\n",
       "    </tr>\n",
       "    <tr>\n",
       "      <th>2442742</th>\n",
       "      <td>r</td>\n",
       "      <td>2.680369e-08</td>\n",
       "      <td>8.657722e-11</td>\n",
       "      <td>23.998963</td>\n",
       "      <td>63222.067830</td>\n",
       "    </tr>\n",
       "    <tr>\n",
       "      <th>2442799</th>\n",
       "      <td>y</td>\n",
       "      <td>1.938496e-08</td>\n",
       "      <td>3.933461e-10</td>\n",
       "      <td>21.815287</td>\n",
       "      <td>63222.111827</td>\n",
       "    </tr>\n",
       "    <tr>\n",
       "      <th>2442775</th>\n",
       "      <td>z</td>\n",
       "      <td>1.157850e-08</td>\n",
       "      <td>1.512941e-10</td>\n",
       "      <td>22.905166</td>\n",
       "      <td>63222.085677</td>\n",
       "    </tr>\n",
       "  </tbody>\n",
       "</table>\n",
       "</div>"
      ],
      "text/plain": [
       "          band          flux       fluxerr         m5          time\n",
       "obsHistID                                                          \n",
       "2420278      u  7.199320e-12  8.797582e-11  23.364561  63187.066784\n",
       "2421021      u  3.314851e-11  1.410967e-10  22.862402  63188.080403\n",
       "2421812      u  7.690017e-11  1.404422e-10  22.868438  63189.117991\n",
       "2423149      g  1.272596e-09  5.665873e-11  23.897282  63191.072483\n",
       "2423169      i  2.148215e-09  9.308826e-11  23.357840  63191.082182\n",
       "2423139      r  2.096949e-09  5.994450e-11  23.861980  63191.066950\n",
       "2423215      y  9.526965e-10  4.722771e-10  21.564430  63191.104080\n",
       "2423195      z  5.356918e-10  1.427617e-10  22.864327  63191.094381\n",
       "2425238      g  9.330813e-09  9.346192e-11  23.423457  63194.058901\n",
       "2425258      i  8.222144e-09  1.295306e-10  23.037736  63194.068600\n",
       "2425228      r  8.633074e-09  8.818023e-11  23.509058  63194.053369\n",
       "2425304      y  4.778328e-09  4.320610e-10  21.669652  63194.090498\n",
       "2425284      z  4.359758e-09  1.922341e-10  22.561392  63194.080799\n",
       "2431066      g  4.441919e-08  8.774692e-11  24.820795  63203.063235\n",
       "2431086      i  2.902097e-08  1.074972e-10  23.709872  63203.072935\n",
       "2431056      r  3.702634e-08  8.877849e-11  24.510950  63203.057703\n",
       "2431132      y  1.974664e-08  3.496905e-10  21.959283  63203.094833\n",
       "2431112      z  2.082493e-08  1.252500e-10  23.350828  63203.085134\n",
       "2433151      g  4.932146e-08  9.240479e-11  24.774518  63206.067328\n",
       "2433171      i  2.934033e-08  1.025594e-10  23.875005  63206.077027\n",
       "2433141      r  4.211392e-08  9.445696e-11  24.463415  63206.061796\n",
       "2433217      y  2.105396e-08  3.690927e-10  21.897697  63206.098925\n",
       "2433197      z  2.150988e-08  1.253895e-10  23.364939  63206.089226\n",
       "2435233      g  4.853480e-08  9.451542e-11  24.434006  63209.067435\n",
       "2435253      i  2.963103e-08  1.144652e-10  23.556593  63209.077134\n",
       "2435223      r  4.356894e-08  1.003223e-10  24.138431  63209.061903\n",
       "2435299      y  2.170041e-08  4.799838e-10  21.585981  63209.099032\n",
       "2435279      z  1.832180e-08  1.444717e-10  23.051477  63209.089333\n",
       "2435922      u  2.136135e-08  1.654013e-10  23.328118  63211.062926\n",
       "2436607      u  1.944430e-08  1.504605e-10  23.566237  63212.063334\n",
       "2437301      u  1.765450e-08  1.575222e-10  23.281295  63213.063974\n",
       "2438631      u  1.301931e-08  1.393553e-10  23.360341  63216.065405\n",
       "2439331      u  1.168365e-08  1.589653e-10  23.018465  63217.065976\n",
       "2440036      u  1.043666e-08  1.330928e-10  23.321099  63218.075410\n",
       "2440831      g  2.727412e-08  7.127925e-11  24.692735  63219.127822\n",
       "2440841      i  1.816667e-08  8.489062e-11  23.966934  63219.133354\n",
       "2440811      r  3.098705e-08  8.168054e-11  24.557801  63219.118123\n",
       "2440887      y  1.875830e-08  3.646762e-10  21.904341  63219.155253\n",
       "2440861      z  1.218071e-08  1.071438e-10  23.427766  63219.143054\n",
       "2442752      g  2.091153e-08  7.778658e-11  23.959153  63222.073362\n",
       "2442772      i  1.667110e-08  1.055040e-10  23.444245  63222.083061\n",
       "2442742      r  2.680369e-08  8.657722e-11  23.998963  63222.067830\n",
       "2442799      y  1.938496e-08  3.933461e-10  21.815287  63222.111827\n",
       "2442775      z  1.157850e-08  1.512941e-10  22.905166  63222.085677"
      ]
     },
     "execution_count": 24,
     "metadata": {},
     "output_type": "execute_result"
    }
   ],
   "source": [
    "# Pass the bandpass and get the lightcurve for the observations \n",
    "reflc.lightCurve(idValue=6144007055260714, observations=df, bandPassDict=lsstBP[0])"
   ]
  },
  {
   "cell_type": "markdown",
   "metadata": {},
   "source": [
    "## Simpler methods for Twinkles  "
   ]
  },
  {
   "cell_type": "markdown",
   "metadata": {},
   "source": [
    "For the Twinkles Data Analysis, we can use a simpler method. The full API is shown below:"
   ]
  },
  {
   "cell_type": "code",
   "execution_count": 25,
   "metadata": {
    "collapsed": false
   },
   "outputs": [],
   "source": [
    "reflcTwink = RefLightCurves.fromTwinklesData(tableName='TwinkSN',\n",
    "                                             idCol='snid',\n",
    "                                             objectTypeID=42,\n",
    "                                             dbHostName=None,\n",
    "                                             columns=('snid', 'redshift', 'snra', 'sndec', 't0',\n",
    "                                                      'x0', 'x1', 'c'),\n",
    "                                             idSequence=None)"
   ]
  },
  {
   "cell_type": "markdown",
   "metadata": {},
   "source": [
    "The tableName, idCol, objectTypeID, and columns will change from one astrophysical object to another.\n",
    "The defaults are currently correct for SN, so one could simply do\n",
    "```\n",
    "reflcTwink = RefLightCurves.fromTwinklesData(tableName='TwinkSN\")\n",
    "```"
   ]
  },
  {
   "cell_type": "markdown",
   "metadata": {},
   "source": [
    "The light Curves can be accessed in the following way"
   ]
  },
  {
   "cell_type": "code",
   "execution_count": 26,
   "metadata": {
    "collapsed": false
   },
   "outputs": [
    {
     "data": {
      "text/html": [
       "<div>\n",
       "<table border=\"1\" class=\"dataframe\">\n",
       "  <thead>\n",
       "    <tr style=\"text-align: right;\">\n",
       "      <th></th>\n",
       "      <th>band</th>\n",
       "      <th>flux</th>\n",
       "      <th>fluxerr</th>\n",
       "      <th>m5</th>\n",
       "      <th>time</th>\n",
       "    </tr>\n",
       "    <tr>\n",
       "      <th>obsHistID</th>\n",
       "      <th></th>\n",
       "      <th></th>\n",
       "      <th></th>\n",
       "      <th></th>\n",
       "      <th></th>\n",
       "    </tr>\n",
       "  </thead>\n",
       "  <tbody>\n",
       "    <tr>\n",
       "      <th>2420278</th>\n",
       "      <td>u</td>\n",
       "      <td>7.199320e-12</td>\n",
       "      <td>8.797582e-11</td>\n",
       "      <td>23.364561</td>\n",
       "      <td>63187.066784</td>\n",
       "    </tr>\n",
       "    <tr>\n",
       "      <th>2421021</th>\n",
       "      <td>u</td>\n",
       "      <td>3.314851e-11</td>\n",
       "      <td>1.410967e-10</td>\n",
       "      <td>22.862402</td>\n",
       "      <td>63188.080403</td>\n",
       "    </tr>\n",
       "    <tr>\n",
       "      <th>2421812</th>\n",
       "      <td>u</td>\n",
       "      <td>7.690017e-11</td>\n",
       "      <td>1.404422e-10</td>\n",
       "      <td>22.868438</td>\n",
       "      <td>63189.117991</td>\n",
       "    </tr>\n",
       "    <tr>\n",
       "      <th>2423149</th>\n",
       "      <td>g</td>\n",
       "      <td>1.272596e-09</td>\n",
       "      <td>5.665873e-11</td>\n",
       "      <td>23.897282</td>\n",
       "      <td>63191.072483</td>\n",
       "    </tr>\n",
       "    <tr>\n",
       "      <th>2423169</th>\n",
       "      <td>i</td>\n",
       "      <td>2.148215e-09</td>\n",
       "      <td>9.308826e-11</td>\n",
       "      <td>23.357840</td>\n",
       "      <td>63191.082182</td>\n",
       "    </tr>\n",
       "    <tr>\n",
       "      <th>2423139</th>\n",
       "      <td>r</td>\n",
       "      <td>2.096949e-09</td>\n",
       "      <td>5.994450e-11</td>\n",
       "      <td>23.861980</td>\n",
       "      <td>63191.066950</td>\n",
       "    </tr>\n",
       "    <tr>\n",
       "      <th>2423215</th>\n",
       "      <td>y</td>\n",
       "      <td>9.526965e-10</td>\n",
       "      <td>4.722771e-10</td>\n",
       "      <td>21.564430</td>\n",
       "      <td>63191.104080</td>\n",
       "    </tr>\n",
       "    <tr>\n",
       "      <th>2423195</th>\n",
       "      <td>z</td>\n",
       "      <td>5.356918e-10</td>\n",
       "      <td>1.427617e-10</td>\n",
       "      <td>22.864327</td>\n",
       "      <td>63191.094381</td>\n",
       "    </tr>\n",
       "    <tr>\n",
       "      <th>2425238</th>\n",
       "      <td>g</td>\n",
       "      <td>9.330813e-09</td>\n",
       "      <td>9.346192e-11</td>\n",
       "      <td>23.423457</td>\n",
       "      <td>63194.058901</td>\n",
       "    </tr>\n",
       "    <tr>\n",
       "      <th>2425258</th>\n",
       "      <td>i</td>\n",
       "      <td>8.222144e-09</td>\n",
       "      <td>1.295306e-10</td>\n",
       "      <td>23.037736</td>\n",
       "      <td>63194.068600</td>\n",
       "    </tr>\n",
       "    <tr>\n",
       "      <th>2425228</th>\n",
       "      <td>r</td>\n",
       "      <td>8.633074e-09</td>\n",
       "      <td>8.818023e-11</td>\n",
       "      <td>23.509058</td>\n",
       "      <td>63194.053369</td>\n",
       "    </tr>\n",
       "    <tr>\n",
       "      <th>2425304</th>\n",
       "      <td>y</td>\n",
       "      <td>4.778328e-09</td>\n",
       "      <td>4.320610e-10</td>\n",
       "      <td>21.669652</td>\n",
       "      <td>63194.090498</td>\n",
       "    </tr>\n",
       "    <tr>\n",
       "      <th>2425284</th>\n",
       "      <td>z</td>\n",
       "      <td>4.359758e-09</td>\n",
       "      <td>1.922341e-10</td>\n",
       "      <td>22.561392</td>\n",
       "      <td>63194.080799</td>\n",
       "    </tr>\n",
       "    <tr>\n",
       "      <th>2431066</th>\n",
       "      <td>g</td>\n",
       "      <td>4.441919e-08</td>\n",
       "      <td>8.774692e-11</td>\n",
       "      <td>24.820795</td>\n",
       "      <td>63203.063235</td>\n",
       "    </tr>\n",
       "    <tr>\n",
       "      <th>2431086</th>\n",
       "      <td>i</td>\n",
       "      <td>2.902097e-08</td>\n",
       "      <td>1.074972e-10</td>\n",
       "      <td>23.709872</td>\n",
       "      <td>63203.072935</td>\n",
       "    </tr>\n",
       "    <tr>\n",
       "      <th>2431056</th>\n",
       "      <td>r</td>\n",
       "      <td>3.702634e-08</td>\n",
       "      <td>8.877849e-11</td>\n",
       "      <td>24.510950</td>\n",
       "      <td>63203.057703</td>\n",
       "    </tr>\n",
       "    <tr>\n",
       "      <th>2431132</th>\n",
       "      <td>y</td>\n",
       "      <td>1.974664e-08</td>\n",
       "      <td>3.496905e-10</td>\n",
       "      <td>21.959283</td>\n",
       "      <td>63203.094833</td>\n",
       "    </tr>\n",
       "    <tr>\n",
       "      <th>2431112</th>\n",
       "      <td>z</td>\n",
       "      <td>2.082493e-08</td>\n",
       "      <td>1.252500e-10</td>\n",
       "      <td>23.350828</td>\n",
       "      <td>63203.085134</td>\n",
       "    </tr>\n",
       "    <tr>\n",
       "      <th>2433151</th>\n",
       "      <td>g</td>\n",
       "      <td>4.932146e-08</td>\n",
       "      <td>9.240479e-11</td>\n",
       "      <td>24.774518</td>\n",
       "      <td>63206.067328</td>\n",
       "    </tr>\n",
       "    <tr>\n",
       "      <th>2433171</th>\n",
       "      <td>i</td>\n",
       "      <td>2.934033e-08</td>\n",
       "      <td>1.025594e-10</td>\n",
       "      <td>23.875005</td>\n",
       "      <td>63206.077027</td>\n",
       "    </tr>\n",
       "    <tr>\n",
       "      <th>2433141</th>\n",
       "      <td>r</td>\n",
       "      <td>4.211392e-08</td>\n",
       "      <td>9.445696e-11</td>\n",
       "      <td>24.463415</td>\n",
       "      <td>63206.061796</td>\n",
       "    </tr>\n",
       "    <tr>\n",
       "      <th>2433217</th>\n",
       "      <td>y</td>\n",
       "      <td>2.105396e-08</td>\n",
       "      <td>3.690927e-10</td>\n",
       "      <td>21.897697</td>\n",
       "      <td>63206.098925</td>\n",
       "    </tr>\n",
       "    <tr>\n",
       "      <th>2433197</th>\n",
       "      <td>z</td>\n",
       "      <td>2.150988e-08</td>\n",
       "      <td>1.253895e-10</td>\n",
       "      <td>23.364939</td>\n",
       "      <td>63206.089226</td>\n",
       "    </tr>\n",
       "    <tr>\n",
       "      <th>2435233</th>\n",
       "      <td>g</td>\n",
       "      <td>4.853480e-08</td>\n",
       "      <td>9.451542e-11</td>\n",
       "      <td>24.434006</td>\n",
       "      <td>63209.067435</td>\n",
       "    </tr>\n",
       "    <tr>\n",
       "      <th>2435253</th>\n",
       "      <td>i</td>\n",
       "      <td>2.963103e-08</td>\n",
       "      <td>1.144652e-10</td>\n",
       "      <td>23.556593</td>\n",
       "      <td>63209.077134</td>\n",
       "    </tr>\n",
       "    <tr>\n",
       "      <th>2435223</th>\n",
       "      <td>r</td>\n",
       "      <td>4.356894e-08</td>\n",
       "      <td>1.003223e-10</td>\n",
       "      <td>24.138431</td>\n",
       "      <td>63209.061903</td>\n",
       "    </tr>\n",
       "    <tr>\n",
       "      <th>2435299</th>\n",
       "      <td>y</td>\n",
       "      <td>2.170041e-08</td>\n",
       "      <td>4.799838e-10</td>\n",
       "      <td>21.585981</td>\n",
       "      <td>63209.099032</td>\n",
       "    </tr>\n",
       "    <tr>\n",
       "      <th>2435279</th>\n",
       "      <td>z</td>\n",
       "      <td>1.832180e-08</td>\n",
       "      <td>1.444717e-10</td>\n",
       "      <td>23.051477</td>\n",
       "      <td>63209.089333</td>\n",
       "    </tr>\n",
       "    <tr>\n",
       "      <th>2435922</th>\n",
       "      <td>u</td>\n",
       "      <td>2.136135e-08</td>\n",
       "      <td>1.654013e-10</td>\n",
       "      <td>23.328118</td>\n",
       "      <td>63211.062926</td>\n",
       "    </tr>\n",
       "    <tr>\n",
       "      <th>2436607</th>\n",
       "      <td>u</td>\n",
       "      <td>1.944430e-08</td>\n",
       "      <td>1.504605e-10</td>\n",
       "      <td>23.566237</td>\n",
       "      <td>63212.063334</td>\n",
       "    </tr>\n",
       "    <tr>\n",
       "      <th>2437301</th>\n",
       "      <td>u</td>\n",
       "      <td>1.765450e-08</td>\n",
       "      <td>1.575222e-10</td>\n",
       "      <td>23.281295</td>\n",
       "      <td>63213.063974</td>\n",
       "    </tr>\n",
       "    <tr>\n",
       "      <th>2438631</th>\n",
       "      <td>u</td>\n",
       "      <td>1.301931e-08</td>\n",
       "      <td>1.393553e-10</td>\n",
       "      <td>23.360341</td>\n",
       "      <td>63216.065405</td>\n",
       "    </tr>\n",
       "    <tr>\n",
       "      <th>2439331</th>\n",
       "      <td>u</td>\n",
       "      <td>1.168365e-08</td>\n",
       "      <td>1.589653e-10</td>\n",
       "      <td>23.018465</td>\n",
       "      <td>63217.065976</td>\n",
       "    </tr>\n",
       "    <tr>\n",
       "      <th>2440036</th>\n",
       "      <td>u</td>\n",
       "      <td>1.043666e-08</td>\n",
       "      <td>1.330928e-10</td>\n",
       "      <td>23.321099</td>\n",
       "      <td>63218.075410</td>\n",
       "    </tr>\n",
       "    <tr>\n",
       "      <th>2440831</th>\n",
       "      <td>g</td>\n",
       "      <td>2.727412e-08</td>\n",
       "      <td>7.127925e-11</td>\n",
       "      <td>24.692735</td>\n",
       "      <td>63219.127822</td>\n",
       "    </tr>\n",
       "    <tr>\n",
       "      <th>2440841</th>\n",
       "      <td>i</td>\n",
       "      <td>1.816667e-08</td>\n",
       "      <td>8.489062e-11</td>\n",
       "      <td>23.966934</td>\n",
       "      <td>63219.133354</td>\n",
       "    </tr>\n",
       "    <tr>\n",
       "      <th>2440811</th>\n",
       "      <td>r</td>\n",
       "      <td>3.098705e-08</td>\n",
       "      <td>8.168054e-11</td>\n",
       "      <td>24.557801</td>\n",
       "      <td>63219.118123</td>\n",
       "    </tr>\n",
       "    <tr>\n",
       "      <th>2440887</th>\n",
       "      <td>y</td>\n",
       "      <td>1.875830e-08</td>\n",
       "      <td>3.646762e-10</td>\n",
       "      <td>21.904341</td>\n",
       "      <td>63219.155253</td>\n",
       "    </tr>\n",
       "    <tr>\n",
       "      <th>2440861</th>\n",
       "      <td>z</td>\n",
       "      <td>1.218071e-08</td>\n",
       "      <td>1.071438e-10</td>\n",
       "      <td>23.427766</td>\n",
       "      <td>63219.143054</td>\n",
       "    </tr>\n",
       "    <tr>\n",
       "      <th>2442752</th>\n",
       "      <td>g</td>\n",
       "      <td>2.091153e-08</td>\n",
       "      <td>7.778658e-11</td>\n",
       "      <td>23.959153</td>\n",
       "      <td>63222.073362</td>\n",
       "    </tr>\n",
       "    <tr>\n",
       "      <th>2442772</th>\n",
       "      <td>i</td>\n",
       "      <td>1.667110e-08</td>\n",
       "      <td>1.055040e-10</td>\n",
       "      <td>23.444245</td>\n",
       "      <td>63222.083061</td>\n",
       "    </tr>\n",
       "    <tr>\n",
       "      <th>2442742</th>\n",
       "      <td>r</td>\n",
       "      <td>2.680369e-08</td>\n",
       "      <td>8.657722e-11</td>\n",
       "      <td>23.998963</td>\n",
       "      <td>63222.067830</td>\n",
       "    </tr>\n",
       "    <tr>\n",
       "      <th>2442799</th>\n",
       "      <td>y</td>\n",
       "      <td>1.938496e-08</td>\n",
       "      <td>3.933461e-10</td>\n",
       "      <td>21.815287</td>\n",
       "      <td>63222.111827</td>\n",
       "    </tr>\n",
       "    <tr>\n",
       "      <th>2442775</th>\n",
       "      <td>z</td>\n",
       "      <td>1.157850e-08</td>\n",
       "      <td>1.512941e-10</td>\n",
       "      <td>22.905166</td>\n",
       "      <td>63222.085677</td>\n",
       "    </tr>\n",
       "  </tbody>\n",
       "</table>\n",
       "</div>"
      ],
      "text/plain": [
       "          band          flux       fluxerr         m5          time\n",
       "obsHistID                                                          \n",
       "2420278      u  7.199320e-12  8.797582e-11  23.364561  63187.066784\n",
       "2421021      u  3.314851e-11  1.410967e-10  22.862402  63188.080403\n",
       "2421812      u  7.690017e-11  1.404422e-10  22.868438  63189.117991\n",
       "2423149      g  1.272596e-09  5.665873e-11  23.897282  63191.072483\n",
       "2423169      i  2.148215e-09  9.308826e-11  23.357840  63191.082182\n",
       "2423139      r  2.096949e-09  5.994450e-11  23.861980  63191.066950\n",
       "2423215      y  9.526965e-10  4.722771e-10  21.564430  63191.104080\n",
       "2423195      z  5.356918e-10  1.427617e-10  22.864327  63191.094381\n",
       "2425238      g  9.330813e-09  9.346192e-11  23.423457  63194.058901\n",
       "2425258      i  8.222144e-09  1.295306e-10  23.037736  63194.068600\n",
       "2425228      r  8.633074e-09  8.818023e-11  23.509058  63194.053369\n",
       "2425304      y  4.778328e-09  4.320610e-10  21.669652  63194.090498\n",
       "2425284      z  4.359758e-09  1.922341e-10  22.561392  63194.080799\n",
       "2431066      g  4.441919e-08  8.774692e-11  24.820795  63203.063235\n",
       "2431086      i  2.902097e-08  1.074972e-10  23.709872  63203.072935\n",
       "2431056      r  3.702634e-08  8.877849e-11  24.510950  63203.057703\n",
       "2431132      y  1.974664e-08  3.496905e-10  21.959283  63203.094833\n",
       "2431112      z  2.082493e-08  1.252500e-10  23.350828  63203.085134\n",
       "2433151      g  4.932146e-08  9.240479e-11  24.774518  63206.067328\n",
       "2433171      i  2.934033e-08  1.025594e-10  23.875005  63206.077027\n",
       "2433141      r  4.211392e-08  9.445696e-11  24.463415  63206.061796\n",
       "2433217      y  2.105396e-08  3.690927e-10  21.897697  63206.098925\n",
       "2433197      z  2.150988e-08  1.253895e-10  23.364939  63206.089226\n",
       "2435233      g  4.853480e-08  9.451542e-11  24.434006  63209.067435\n",
       "2435253      i  2.963103e-08  1.144652e-10  23.556593  63209.077134\n",
       "2435223      r  4.356894e-08  1.003223e-10  24.138431  63209.061903\n",
       "2435299      y  2.170041e-08  4.799838e-10  21.585981  63209.099032\n",
       "2435279      z  1.832180e-08  1.444717e-10  23.051477  63209.089333\n",
       "2435922      u  2.136135e-08  1.654013e-10  23.328118  63211.062926\n",
       "2436607      u  1.944430e-08  1.504605e-10  23.566237  63212.063334\n",
       "2437301      u  1.765450e-08  1.575222e-10  23.281295  63213.063974\n",
       "2438631      u  1.301931e-08  1.393553e-10  23.360341  63216.065405\n",
       "2439331      u  1.168365e-08  1.589653e-10  23.018465  63217.065976\n",
       "2440036      u  1.043666e-08  1.330928e-10  23.321099  63218.075410\n",
       "2440831      g  2.727412e-08  7.127925e-11  24.692735  63219.127822\n",
       "2440841      i  1.816667e-08  8.489062e-11  23.966934  63219.133354\n",
       "2440811      r  3.098705e-08  8.168054e-11  24.557801  63219.118123\n",
       "2440887      y  1.875830e-08  3.646762e-10  21.904341  63219.155253\n",
       "2440861      z  1.218071e-08  1.071438e-10  23.427766  63219.143054\n",
       "2442752      g  2.091153e-08  7.778658e-11  23.959153  63222.073362\n",
       "2442772      i  1.667110e-08  1.055040e-10  23.444245  63222.083061\n",
       "2442742      r  2.680369e-08  8.657722e-11  23.998963  63222.067830\n",
       "2442799      y  1.938496e-08  3.933461e-10  21.815287  63222.111827\n",
       "2442775      z  1.157850e-08  1.512941e-10  22.905166  63222.085677"
      ]
     },
     "execution_count": 26,
     "metadata": {},
     "output_type": "execute_result"
    }
   ],
   "source": [
    "reflcTwink.lightCurve(idValue=6144007055260714)"
   ]
  },
  {
   "cell_type": "markdown",
   "metadata": {
    "collapsed": true
   },
   "source": [
    "We can get the light curves for each band by"
   ]
  },
  {
   "cell_type": "code",
   "execution_count": 27,
   "metadata": {
    "collapsed": false
   },
   "outputs": [
    {
     "data": {
      "text/html": [
       "<div>\n",
       "<table border=\"1\" class=\"dataframe\">\n",
       "  <thead>\n",
       "    <tr style=\"text-align: right;\">\n",
       "      <th></th>\n",
       "      <th>band</th>\n",
       "      <th>flux</th>\n",
       "      <th>fluxerr</th>\n",
       "      <th>m5</th>\n",
       "      <th>time</th>\n",
       "    </tr>\n",
       "    <tr>\n",
       "      <th>obsHistID</th>\n",
       "      <th></th>\n",
       "      <th></th>\n",
       "      <th></th>\n",
       "      <th></th>\n",
       "      <th></th>\n",
       "    </tr>\n",
       "  </thead>\n",
       "  <tbody>\n",
       "    <tr>\n",
       "      <th>2423139</th>\n",
       "      <td>r</td>\n",
       "      <td>2.096949e-09</td>\n",
       "      <td>5.994450e-11</td>\n",
       "      <td>23.861980</td>\n",
       "      <td>63191.066950</td>\n",
       "    </tr>\n",
       "    <tr>\n",
       "      <th>2425228</th>\n",
       "      <td>r</td>\n",
       "      <td>8.633074e-09</td>\n",
       "      <td>8.818023e-11</td>\n",
       "      <td>23.509058</td>\n",
       "      <td>63194.053369</td>\n",
       "    </tr>\n",
       "    <tr>\n",
       "      <th>2431056</th>\n",
       "      <td>r</td>\n",
       "      <td>3.702634e-08</td>\n",
       "      <td>8.877849e-11</td>\n",
       "      <td>24.510950</td>\n",
       "      <td>63203.057703</td>\n",
       "    </tr>\n",
       "    <tr>\n",
       "      <th>2433141</th>\n",
       "      <td>r</td>\n",
       "      <td>4.211392e-08</td>\n",
       "      <td>9.445696e-11</td>\n",
       "      <td>24.463415</td>\n",
       "      <td>63206.061796</td>\n",
       "    </tr>\n",
       "    <tr>\n",
       "      <th>2435223</th>\n",
       "      <td>r</td>\n",
       "      <td>4.356894e-08</td>\n",
       "      <td>1.003223e-10</td>\n",
       "      <td>24.138431</td>\n",
       "      <td>63209.061903</td>\n",
       "    </tr>\n",
       "    <tr>\n",
       "      <th>2440811</th>\n",
       "      <td>r</td>\n",
       "      <td>3.098705e-08</td>\n",
       "      <td>8.168054e-11</td>\n",
       "      <td>24.557801</td>\n",
       "      <td>63219.118123</td>\n",
       "    </tr>\n",
       "    <tr>\n",
       "      <th>2442742</th>\n",
       "      <td>r</td>\n",
       "      <td>2.680369e-08</td>\n",
       "      <td>8.657722e-11</td>\n",
       "      <td>23.998963</td>\n",
       "      <td>63222.067830</td>\n",
       "    </tr>\n",
       "  </tbody>\n",
       "</table>\n",
       "</div>"
      ],
      "text/plain": [
       "          band          flux       fluxerr         m5          time\n",
       "obsHistID                                                          \n",
       "2423139      r  2.096949e-09  5.994450e-11  23.861980  63191.066950\n",
       "2425228      r  8.633074e-09  8.818023e-11  23.509058  63194.053369\n",
       "2431056      r  3.702634e-08  8.877849e-11  24.510950  63203.057703\n",
       "2433141      r  4.211392e-08  9.445696e-11  24.463415  63206.061796\n",
       "2435223      r  4.356894e-08  1.003223e-10  24.138431  63209.061903\n",
       "2440811      r  3.098705e-08  8.168054e-11  24.557801  63219.118123\n",
       "2442742      r  2.680369e-08  8.657722e-11  23.998963  63222.067830"
      ]
     },
     "execution_count": 27,
     "metadata": {},
     "output_type": "execute_result"
    }
   ],
   "source": [
    "reflcTwink.lightCurve(idValue=6144007055260714, bandName='r')"
   ]
  }
 ],
 "metadata": {
  "kernelspec": {
   "display_name": "Python 2",
   "language": "python",
   "name": "python2"
  },
  "language_info": {
   "codemirror_mode": {
    "name": "ipython",
    "version": 2
   },
   "file_extension": ".py",
   "mimetype": "text/x-python",
   "name": "python",
   "nbconvert_exporter": "python",
   "pygments_lexer": "ipython2",
   "version": "2.7.11"
  }
 },
 "nbformat": 4,
 "nbformat_minor": 0
}
